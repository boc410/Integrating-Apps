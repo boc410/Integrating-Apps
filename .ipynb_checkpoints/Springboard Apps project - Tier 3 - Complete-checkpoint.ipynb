{
 "cells": [
  {
   "cell_type": "markdown",
   "metadata": {
    "colab_type": "text",
    "id": "i2RUFW7TFcuh"
   },
   "source": [
    "# Springboard Apps project - Tier 3 - Complete\n",
    "\n",
    "Welcome to the Apps project! To give you a taste of your future career, we're going to walk through exactly the kind of notebook that you'd write as a data scientist. In the process, we'll be sure to signpost the general framework for our investigation - the Data Science Pipeline - as well as give reasons for why we're doing what we're doing. We're also going to apply some of the skills and knowledge you've built up in the previous unit when reading Professor Spiegelhalter's *The Art of Statistics* (hereinafter *AoS*). \n",
    "\n",
    "So let's get cracking!\n",
    "\n",
    "**Brief**\n",
    "\n",
    "Did Apple Store apps receive better reviews than Google Play apps?\n",
    "\n",
    "## Stages of the project\n",
    "\n",
    "1. Sourcing and loading \n",
    "    * Load the two datasets\n",
    "    * Pick the columns that we are going to work with \n",
    "    * Subsetting the data on this basis \n",
    " \n",
    " \n",
    "2. Cleaning, transforming and visualizing\n",
    "    * Check the data types and fix them\n",
    "    * Add a `platform` column to both the `Apple` and the `Google` dataframes\n",
    "    * Changing the column names to prepare for a join \n",
    "    * Join the two data sets\n",
    "    * Eliminate the `NaN` values\n",
    "    * Filter only those apps that have been reviewed at least once\n",
    "    * Summarize the data visually and analytically (by the column `platform`)  \n",
    "  \n",
    "  \n",
    "3. Modelling \n",
    "    * Hypothesis formulation\n",
    "    * Getting the distribution of the data\n",
    "    * Permutation test \n",
    "\n",
    "\n",
    "4. Evaluating and concluding \n",
    "    * What is our conclusion?\n",
    "    * What is our decision?\n",
    "    * Other models we could have used. \n",
    "    "
   ]
  },
  {
   "cell_type": "markdown",
   "metadata": {
    "colab_type": "text",
    "id": "QLUAXtl1Fcuk"
   },
   "source": [
    "## Importing the libraries\n",
    "\n",
    "In this case we are going to import pandas, numpy, scipy, random and matplotlib.pyplot"
   ]
  },
  {
   "cell_type": "code",
   "execution_count": 1,
   "metadata": {
    "colab": {},
    "colab_type": "code",
    "id": "XeXJOlGiFcum"
   },
   "outputs": [],
   "source": [
    "import pandas as pd\n",
    "import numpy as np\n",
    "import matplotlib.pyplot as plt\n",
    "# scipi is a library for statistical tests and visualizations \n",
    "from scipy import stats\n",
    "# random enables us to generate random numbers\n",
    "import random"
   ]
  },
  {
   "cell_type": "markdown",
   "metadata": {
    "colab_type": "text",
    "id": "zVD7NlPAFcup"
   },
   "source": [
    "## Stage 1 -  Sourcing and loading data"
   ]
  },
  {
   "cell_type": "markdown",
   "metadata": {
    "colab_type": "text",
    "id": "KU8bdbImFcuq"
   },
   "source": [
    "### 1a. Source and load the data\n",
    "Let's download the data from Kaggle. Kaggle is a fantastic resource: a kind of social medium for data scientists, it boasts projects, datasets and news on the freshest libraries and technologies all in one place. The data from the Apple Store can be found [here](https://www.kaggle.com/ramamet4/app-store-apple-data-set-10k-apps) and the data from Google Store can be found [here](https://www.kaggle.com/lava18/google-play-store-apps).\n",
    "Download the datasets and save them in your working directory."
   ]
  },
  {
   "cell_type": "code",
   "execution_count": 2,
   "metadata": {
    "colab": {},
    "colab_type": "code",
    "id": "laM1PB76Fcur"
   },
   "outputs": [
    {
     "data": {
      "text/html": [
       "<div>\n",
       "<style scoped>\n",
       "    .dataframe tbody tr th:only-of-type {\n",
       "        vertical-align: middle;\n",
       "    }\n",
       "\n",
       "    .dataframe tbody tr th {\n",
       "        vertical-align: top;\n",
       "    }\n",
       "\n",
       "    .dataframe thead th {\n",
       "        text-align: right;\n",
       "    }\n",
       "</style>\n",
       "<table border=\"1\" class=\"dataframe\">\n",
       "  <thead>\n",
       "    <tr style=\"text-align: right;\">\n",
       "      <th></th>\n",
       "      <th>App</th>\n",
       "      <th>Category</th>\n",
       "      <th>Rating</th>\n",
       "      <th>Reviews</th>\n",
       "      <th>Size</th>\n",
       "      <th>Installs</th>\n",
       "      <th>Type</th>\n",
       "      <th>Price</th>\n",
       "      <th>Content Rating</th>\n",
       "      <th>Genres</th>\n",
       "      <th>Last Updated</th>\n",
       "      <th>Current Ver</th>\n",
       "      <th>Android Ver</th>\n",
       "    </tr>\n",
       "  </thead>\n",
       "  <tbody>\n",
       "    <tr>\n",
       "      <th>0</th>\n",
       "      <td>Photo Editor &amp; Candy Camera &amp; Grid &amp; ScrapBook</td>\n",
       "      <td>ART_AND_DESIGN</td>\n",
       "      <td>4.1</td>\n",
       "      <td>159</td>\n",
       "      <td>19M</td>\n",
       "      <td>10,000+</td>\n",
       "      <td>Free</td>\n",
       "      <td>0</td>\n",
       "      <td>Everyone</td>\n",
       "      <td>Art &amp; Design</td>\n",
       "      <td>January 7, 2018</td>\n",
       "      <td>1.0.0</td>\n",
       "      <td>4.0.3 and up</td>\n",
       "    </tr>\n",
       "    <tr>\n",
       "      <th>1</th>\n",
       "      <td>Coloring book moana</td>\n",
       "      <td>ART_AND_DESIGN</td>\n",
       "      <td>3.9</td>\n",
       "      <td>967</td>\n",
       "      <td>14M</td>\n",
       "      <td>500,000+</td>\n",
       "      <td>Free</td>\n",
       "      <td>0</td>\n",
       "      <td>Everyone</td>\n",
       "      <td>Art &amp; Design;Pretend Play</td>\n",
       "      <td>January 15, 2018</td>\n",
       "      <td>2.0.0</td>\n",
       "      <td>4.0.3 and up</td>\n",
       "    </tr>\n",
       "    <tr>\n",
       "      <th>2</th>\n",
       "      <td>U Launcher Lite – FREE Live Cool Themes, Hide ...</td>\n",
       "      <td>ART_AND_DESIGN</td>\n",
       "      <td>4.7</td>\n",
       "      <td>87510</td>\n",
       "      <td>8.7M</td>\n",
       "      <td>5,000,000+</td>\n",
       "      <td>Free</td>\n",
       "      <td>0</td>\n",
       "      <td>Everyone</td>\n",
       "      <td>Art &amp; Design</td>\n",
       "      <td>August 1, 2018</td>\n",
       "      <td>1.2.4</td>\n",
       "      <td>4.0.3 and up</td>\n",
       "    </tr>\n",
       "  </tbody>\n",
       "</table>\n",
       "</div>"
      ],
      "text/plain": [
       "                                                 App        Category  Rating  \\\n",
       "0     Photo Editor & Candy Camera & Grid & ScrapBook  ART_AND_DESIGN     4.1   \n",
       "1                                Coloring book moana  ART_AND_DESIGN     3.9   \n",
       "2  U Launcher Lite – FREE Live Cool Themes, Hide ...  ART_AND_DESIGN     4.7   \n",
       "\n",
       "  Reviews  Size    Installs  Type Price Content Rating  \\\n",
       "0     159   19M     10,000+  Free     0       Everyone   \n",
       "1     967   14M    500,000+  Free     0       Everyone   \n",
       "2   87510  8.7M  5,000,000+  Free     0       Everyone   \n",
       "\n",
       "                      Genres      Last Updated Current Ver   Android Ver  \n",
       "0               Art & Design   January 7, 2018       1.0.0  4.0.3 and up  \n",
       "1  Art & Design;Pretend Play  January 15, 2018       2.0.0  4.0.3 and up  \n",
       "2               Art & Design    August 1, 2018       1.2.4  4.0.3 and up  "
      ]
     },
     "execution_count": 2,
     "metadata": {},
     "output_type": "execute_result"
    }
   ],
   "source": [
    "# Now that the files are saved, we want to load them into Python using read_csv and pandas.\n",
    "\n",
    "# Create a variable called google, and store in it the path of the csv file that contains your google dataset. \n",
    "# If your dataset is in the same folder as this notebook, the path will simply be the name of the file. \n",
    "google = 'googleplaystore.csv'\n",
    "\n",
    "# Read the csv file into a data frame called Google using the read_csv() pandas method.\n",
    "Google = pd.read_csv(google)\n",
    "\n",
    "# Using the head() pandas method, observe the first three entries.\n",
    "Google.head(3)"
   ]
  },
  {
   "cell_type": "code",
   "execution_count": 3,
   "metadata": {
    "colab": {},
    "colab_type": "code",
    "id": "3AW8EA1wFcuu"
   },
   "outputs": [
    {
     "data": {
      "text/html": [
       "<div>\n",
       "<style scoped>\n",
       "    .dataframe tbody tr th:only-of-type {\n",
       "        vertical-align: middle;\n",
       "    }\n",
       "\n",
       "    .dataframe tbody tr th {\n",
       "        vertical-align: top;\n",
       "    }\n",
       "\n",
       "    .dataframe thead th {\n",
       "        text-align: right;\n",
       "    }\n",
       "</style>\n",
       "<table border=\"1\" class=\"dataframe\">\n",
       "  <thead>\n",
       "    <tr style=\"text-align: right;\">\n",
       "      <th></th>\n",
       "      <th>Unnamed: 0</th>\n",
       "      <th>id</th>\n",
       "      <th>track_name</th>\n",
       "      <th>size_bytes</th>\n",
       "      <th>currency</th>\n",
       "      <th>price</th>\n",
       "      <th>rating_count_tot</th>\n",
       "      <th>rating_count_ver</th>\n",
       "      <th>user_rating</th>\n",
       "      <th>user_rating_ver</th>\n",
       "      <th>ver</th>\n",
       "      <th>cont_rating</th>\n",
       "      <th>prime_genre</th>\n",
       "      <th>sup_devices.num</th>\n",
       "      <th>ipadSc_urls.num</th>\n",
       "      <th>lang.num</th>\n",
       "      <th>vpp_lic</th>\n",
       "    </tr>\n",
       "  </thead>\n",
       "  <tbody>\n",
       "    <tr>\n",
       "      <th>0</th>\n",
       "      <td>1</td>\n",
       "      <td>281656475</td>\n",
       "      <td>PAC-MAN Premium</td>\n",
       "      <td>100788224</td>\n",
       "      <td>USD</td>\n",
       "      <td>3.99</td>\n",
       "      <td>21292</td>\n",
       "      <td>26</td>\n",
       "      <td>4.0</td>\n",
       "      <td>4.5</td>\n",
       "      <td>6.3.5</td>\n",
       "      <td>4+</td>\n",
       "      <td>Games</td>\n",
       "      <td>38</td>\n",
       "      <td>5</td>\n",
       "      <td>10</td>\n",
       "      <td>1</td>\n",
       "    </tr>\n",
       "    <tr>\n",
       "      <th>1</th>\n",
       "      <td>2</td>\n",
       "      <td>281796108</td>\n",
       "      <td>Evernote - stay organized</td>\n",
       "      <td>158578688</td>\n",
       "      <td>USD</td>\n",
       "      <td>0.00</td>\n",
       "      <td>161065</td>\n",
       "      <td>26</td>\n",
       "      <td>4.0</td>\n",
       "      <td>3.5</td>\n",
       "      <td>8.2.2</td>\n",
       "      <td>4+</td>\n",
       "      <td>Productivity</td>\n",
       "      <td>37</td>\n",
       "      <td>5</td>\n",
       "      <td>23</td>\n",
       "      <td>1</td>\n",
       "    </tr>\n",
       "    <tr>\n",
       "      <th>2</th>\n",
       "      <td>3</td>\n",
       "      <td>281940292</td>\n",
       "      <td>WeatherBug - Local Weather, Radar, Maps, Alerts</td>\n",
       "      <td>100524032</td>\n",
       "      <td>USD</td>\n",
       "      <td>0.00</td>\n",
       "      <td>188583</td>\n",
       "      <td>2822</td>\n",
       "      <td>3.5</td>\n",
       "      <td>4.5</td>\n",
       "      <td>5.0.0</td>\n",
       "      <td>4+</td>\n",
       "      <td>Weather</td>\n",
       "      <td>37</td>\n",
       "      <td>5</td>\n",
       "      <td>3</td>\n",
       "      <td>1</td>\n",
       "    </tr>\n",
       "  </tbody>\n",
       "</table>\n",
       "</div>"
      ],
      "text/plain": [
       "   Unnamed: 0         id                                       track_name  \\\n",
       "0           1  281656475                                  PAC-MAN Premium   \n",
       "1           2  281796108                        Evernote - stay organized   \n",
       "2           3  281940292  WeatherBug - Local Weather, Radar, Maps, Alerts   \n",
       "\n",
       "   size_bytes currency  price  rating_count_tot  rating_count_ver  \\\n",
       "0   100788224      USD   3.99             21292                26   \n",
       "1   158578688      USD   0.00            161065                26   \n",
       "2   100524032      USD   0.00            188583              2822   \n",
       "\n",
       "   user_rating  user_rating_ver    ver cont_rating   prime_genre  \\\n",
       "0          4.0              4.5  6.3.5          4+         Games   \n",
       "1          4.0              3.5  8.2.2          4+  Productivity   \n",
       "2          3.5              4.5  5.0.0          4+       Weather   \n",
       "\n",
       "   sup_devices.num  ipadSc_urls.num  lang.num  vpp_lic  \n",
       "0               38                5        10        1  \n",
       "1               37                5        23        1  \n",
       "2               37                5         3        1  "
      ]
     },
     "execution_count": 3,
     "metadata": {},
     "output_type": "execute_result"
    }
   ],
   "source": [
    "# Create a variable called apple, and store in it the path of the csv file that contains your apple dataset. \n",
    "apple = 'AppleStore.csv'\n",
    "\n",
    "# Read the csv file into a pandas DataFrame object called Apple.\n",
    "Apple = pd.read_csv(apple)\n",
    "\n",
    "# Observe the first three entries like you did with your other data. \n",
    "Apple.head(3)"
   ]
  },
  {
   "cell_type": "markdown",
   "metadata": {
    "colab_type": "text",
    "id": "vljOHKNTFcuw"
   },
   "source": [
    "### 1b. Pick the columns we'll work with\n",
    "\n",
    "From the documentation of these datasets, we can infer that the most appropriate columns to answer the brief are:\n",
    "\n",
    "1. Google:\n",
    "    * `Category` # Do we need this?\n",
    "    * `Rating`\n",
    "    * `Reviews`\n",
    "    * `Price` (maybe)\n",
    "2. Apple:    \n",
    "    * `prime_genre` # Do we need this?\n",
    "    * `user_rating` \n",
    "    * `rating_count_tot`\n",
    "    * `price` (maybe)"
   ]
  },
  {
   "cell_type": "markdown",
   "metadata": {
    "colab_type": "text",
    "id": "uf69AeTvFcux"
   },
   "source": [
    "### 1c. Subsetting accordingly\n",
    "\n",
    "Let's select only those columns that we want to work with from both datasets. We'll overwrite the subsets in the original variables."
   ]
  },
  {
   "cell_type": "code",
   "execution_count": 4,
   "metadata": {
    "colab": {},
    "colab_type": "code",
    "id": "LNSDXyjdFcuy"
   },
   "outputs": [
    {
     "data": {
      "text/html": [
       "<div>\n",
       "<style scoped>\n",
       "    .dataframe tbody tr th:only-of-type {\n",
       "        vertical-align: middle;\n",
       "    }\n",
       "\n",
       "    .dataframe tbody tr th {\n",
       "        vertical-align: top;\n",
       "    }\n",
       "\n",
       "    .dataframe thead th {\n",
       "        text-align: right;\n",
       "    }\n",
       "</style>\n",
       "<table border=\"1\" class=\"dataframe\">\n",
       "  <thead>\n",
       "    <tr style=\"text-align: right;\">\n",
       "      <th></th>\n",
       "      <th>Category</th>\n",
       "      <th>Rating</th>\n",
       "      <th>Reviews</th>\n",
       "      <th>Price</th>\n",
       "    </tr>\n",
       "  </thead>\n",
       "  <tbody>\n",
       "    <tr>\n",
       "      <th>0</th>\n",
       "      <td>ART_AND_DESIGN</td>\n",
       "      <td>4.1</td>\n",
       "      <td>159</td>\n",
       "      <td>0</td>\n",
       "    </tr>\n",
       "    <tr>\n",
       "      <th>1</th>\n",
       "      <td>ART_AND_DESIGN</td>\n",
       "      <td>3.9</td>\n",
       "      <td>967</td>\n",
       "      <td>0</td>\n",
       "    </tr>\n",
       "    <tr>\n",
       "      <th>2</th>\n",
       "      <td>ART_AND_DESIGN</td>\n",
       "      <td>4.7</td>\n",
       "      <td>87510</td>\n",
       "      <td>0</td>\n",
       "    </tr>\n",
       "  </tbody>\n",
       "</table>\n",
       "</div>"
      ],
      "text/plain": [
       "         Category  Rating Reviews Price\n",
       "0  ART_AND_DESIGN     4.1     159     0\n",
       "1  ART_AND_DESIGN     3.9     967     0\n",
       "2  ART_AND_DESIGN     4.7   87510     0"
      ]
     },
     "execution_count": 4,
     "metadata": {},
     "output_type": "execute_result"
    }
   ],
   "source": [
    "# Subset our DataFrame object Google by selecting just the variables ['Category', 'Rating', 'Reviews', 'Price']\n",
    "Google = Google[['Category', 'Rating', 'Reviews', 'Price']]\n",
    "\n",
    "# Check the first three entries\n",
    "Google.head(3)"
   ]
  },
  {
   "cell_type": "code",
   "execution_count": 5,
   "metadata": {
    "colab": {},
    "colab_type": "code",
    "id": "AVCtENPtFcu0"
   },
   "outputs": [
    {
     "data": {
      "text/html": [
       "<div>\n",
       "<style scoped>\n",
       "    .dataframe tbody tr th:only-of-type {\n",
       "        vertical-align: middle;\n",
       "    }\n",
       "\n",
       "    .dataframe tbody tr th {\n",
       "        vertical-align: top;\n",
       "    }\n",
       "\n",
       "    .dataframe thead th {\n",
       "        text-align: right;\n",
       "    }\n",
       "</style>\n",
       "<table border=\"1\" class=\"dataframe\">\n",
       "  <thead>\n",
       "    <tr style=\"text-align: right;\">\n",
       "      <th></th>\n",
       "      <th>prime_genre</th>\n",
       "      <th>user_rating</th>\n",
       "      <th>rating_count_tot</th>\n",
       "      <th>price</th>\n",
       "    </tr>\n",
       "  </thead>\n",
       "  <tbody>\n",
       "    <tr>\n",
       "      <th>0</th>\n",
       "      <td>Games</td>\n",
       "      <td>4.0</td>\n",
       "      <td>21292</td>\n",
       "      <td>3.99</td>\n",
       "    </tr>\n",
       "    <tr>\n",
       "      <th>1</th>\n",
       "      <td>Productivity</td>\n",
       "      <td>4.0</td>\n",
       "      <td>161065</td>\n",
       "      <td>0.00</td>\n",
       "    </tr>\n",
       "    <tr>\n",
       "      <th>2</th>\n",
       "      <td>Weather</td>\n",
       "      <td>3.5</td>\n",
       "      <td>188583</td>\n",
       "      <td>0.00</td>\n",
       "    </tr>\n",
       "  </tbody>\n",
       "</table>\n",
       "</div>"
      ],
      "text/plain": [
       "    prime_genre  user_rating  rating_count_tot  price\n",
       "0         Games          4.0             21292   3.99\n",
       "1  Productivity          4.0            161065   0.00\n",
       "2       Weather          3.5            188583   0.00"
      ]
     },
     "execution_count": 5,
     "metadata": {},
     "output_type": "execute_result"
    }
   ],
   "source": [
    "# Do the same with our Apple object, selecting just the variables ['prime_genre', 'user_rating', 'rating_count_tot', 'price']\n",
    "Apple = Apple[['prime_genre', 'user_rating', 'rating_count_tot', 'price']]\n",
    "\n",
    "# Let's check the first three entries\n",
    "Apple.head(3)"
   ]
  },
  {
   "cell_type": "markdown",
   "metadata": {
    "colab_type": "text",
    "id": "wwK2wH-rFcu2"
   },
   "source": [
    "## Stage 2 -  Cleaning, transforming and visualizing"
   ]
  },
  {
   "cell_type": "markdown",
   "metadata": {
    "colab_type": "text",
    "id": "NsoE5x0JFcu3"
   },
   "source": [
    "### 2a. Check the data types for both Apple and Google, and fix them\n",
    "\n",
    "Types are crucial for data science in Python. Let's determine whether the variables we selected in the previous section belong to the types they should do, or whether there are any errors here. "
   ]
  },
  {
   "cell_type": "code",
   "execution_count": 6,
   "metadata": {
    "colab": {},
    "colab_type": "code",
    "id": "ymw10SaWFcu4"
   },
   "outputs": [
    {
     "data": {
      "text/plain": [
       "prime_genre          object\n",
       "user_rating         float64\n",
       "rating_count_tot      int64\n",
       "price               float64\n",
       "dtype: object"
      ]
     },
     "execution_count": 6,
     "metadata": {},
     "output_type": "execute_result"
    }
   ],
   "source": [
    "# Using the dtypes feature of pandas DataFrame objects, check out the data types within our Apple dataframe.\n",
    "# Are they what you expect?\n",
    "Apple.dtypes"
   ]
  },
  {
   "cell_type": "markdown",
   "metadata": {
    "colab_type": "text",
    "id": "VAiM6jIxFcu6"
   },
   "source": [
    "This is looking healthy. But what about our Google data frame?"
   ]
  },
  {
   "cell_type": "code",
   "execution_count": 7,
   "metadata": {
    "colab": {},
    "colab_type": "code",
    "id": "kmP8MhqyFcu7"
   },
   "outputs": [
    {
     "data": {
      "text/plain": [
       "Category     object\n",
       "Rating      float64\n",
       "Reviews      object\n",
       "Price        object\n",
       "dtype: object"
      ]
     },
     "execution_count": 7,
     "metadata": {},
     "output_type": "execute_result"
    }
   ],
   "source": [
    "# Using the same dtypes feature, check out the data types of our Google dataframe. \n",
    "Google.dtypes"
   ]
  },
  {
   "cell_type": "markdown",
   "metadata": {
    "colab_type": "text",
    "id": "O-dxAy0WFcu9"
   },
   "source": [
    "Weird. The data type for the column 'Price' is 'object', not a numeric data type like a float or an integer. Let's investigate the unique values of this column. "
   ]
  },
  {
   "cell_type": "code",
   "execution_count": 8,
   "metadata": {
    "colab": {},
    "colab_type": "code",
    "id": "Hu08K9y7Fcu9"
   },
   "outputs": [
    {
     "data": {
      "text/plain": [
       "array(['0', '$4.99', '$3.99', '$6.99', '$1.49', '$2.99', '$7.99', '$5.99',\n",
       "       '$3.49', '$1.99', '$9.99', '$7.49', '$0.99', '$9.00', '$5.49',\n",
       "       '$10.00', '$24.99', '$11.99', '$79.99', '$16.99', '$14.99',\n",
       "       '$1.00', '$29.99', '$12.99', '$2.49', '$10.99', '$1.50', '$19.99',\n",
       "       '$15.99', '$33.99', '$74.99', '$39.99', '$3.95', '$4.49', '$1.70',\n",
       "       '$8.99', '$2.00', '$3.88', '$25.99', '$399.99', '$17.99',\n",
       "       '$400.00', '$3.02', '$1.76', '$4.84', '$4.77', '$1.61', '$2.50',\n",
       "       '$1.59', '$6.49', '$1.29', '$5.00', '$13.99', '$299.99', '$379.99',\n",
       "       '$37.99', '$18.99', '$389.99', '$19.90', '$8.49', '$1.75',\n",
       "       '$14.00', '$4.85', '$46.99', '$109.99', '$154.99', '$3.08',\n",
       "       '$2.59', '$4.80', '$1.96', '$19.40', '$3.90', '$4.59', '$15.46',\n",
       "       '$3.04', '$4.29', '$2.60', '$3.28', '$4.60', '$28.99', '$2.95',\n",
       "       '$2.90', '$1.97', '$200.00', '$89.99', '$2.56', '$30.99', '$3.61',\n",
       "       '$394.99', '$1.26', 'Everyone', '$1.20', '$1.04'], dtype=object)"
      ]
     },
     "execution_count": 8,
     "metadata": {},
     "output_type": "execute_result"
    }
   ],
   "source": [
    "# Use the unique() pandas method on the Price column to check its unique values. \n",
    "Google.Price.unique()"
   ]
  },
  {
   "cell_type": "markdown",
   "metadata": {
    "colab_type": "text",
    "id": "w_7nkogFFcu_"
   },
   "source": [
    "Aha! Fascinating. There are actually two issues here. \n",
    "\n",
    "- Firstly, there's a price called `Everyone`. That is a massive mistake! \n",
    "- Secondly, there are dollar symbols everywhere! \n",
    "\n",
    "\n",
    "Let's address the first issue first. Let's check the datapoints that have the price value `Everyone`"
   ]
  },
  {
   "cell_type": "code",
   "execution_count": 9,
   "metadata": {
    "colab": {},
    "colab_type": "code",
    "id": "E75WWmhdFcvA"
   },
   "outputs": [
    {
     "data": {
      "text/html": [
       "<div>\n",
       "<style scoped>\n",
       "    .dataframe tbody tr th:only-of-type {\n",
       "        vertical-align: middle;\n",
       "    }\n",
       "\n",
       "    .dataframe tbody tr th {\n",
       "        vertical-align: top;\n",
       "    }\n",
       "\n",
       "    .dataframe thead th {\n",
       "        text-align: right;\n",
       "    }\n",
       "</style>\n",
       "<table border=\"1\" class=\"dataframe\">\n",
       "  <thead>\n",
       "    <tr style=\"text-align: right;\">\n",
       "      <th></th>\n",
       "      <th>Category</th>\n",
       "      <th>Rating</th>\n",
       "      <th>Reviews</th>\n",
       "      <th>Price</th>\n",
       "    </tr>\n",
       "  </thead>\n",
       "  <tbody>\n",
       "    <tr>\n",
       "      <th>10472</th>\n",
       "      <td>1.9</td>\n",
       "      <td>19.0</td>\n",
       "      <td>3.0M</td>\n",
       "      <td>Everyone</td>\n",
       "    </tr>\n",
       "  </tbody>\n",
       "</table>\n",
       "</div>"
      ],
      "text/plain": [
       "      Category  Rating Reviews     Price\n",
       "10472      1.9    19.0    3.0M  Everyone"
      ]
     },
     "execution_count": 9,
     "metadata": {},
     "output_type": "execute_result"
    }
   ],
   "source": [
    "# Let's check which data points have the value 'Everyone' for the 'Price' column by subsetting our Google dataframe.\n",
    "\n",
    "# Subset the Google dataframe on the price column. \n",
    "# To be sure: you want to pick out just those rows whose value for the 'Price' column is just 'Everyone'. \n",
    "Google[Google.Price == 'Everyone']"
   ]
  },
  {
   "cell_type": "markdown",
   "metadata": {
    "colab_type": "text",
    "id": "ezfLshdRFcvC"
   },
   "source": [
    "Thankfully, it's just one row. We've gotta get rid of it. "
   ]
  },
  {
   "cell_type": "code",
   "execution_count": 10,
   "metadata": {
    "colab": {},
    "colab_type": "code",
    "id": "DBmjUQUkFcvD"
   },
   "outputs": [
    {
     "data": {
      "text/plain": [
       "array(['0', '$4.99', '$3.99', '$6.99', '$1.49', '$2.99', '$7.99', '$5.99',\n",
       "       '$3.49', '$1.99', '$9.99', '$7.49', '$0.99', '$9.00', '$5.49',\n",
       "       '$10.00', '$24.99', '$11.99', '$79.99', '$16.99', '$14.99',\n",
       "       '$1.00', '$29.99', '$12.99', '$2.49', '$10.99', '$1.50', '$19.99',\n",
       "       '$15.99', '$33.99', '$74.99', '$39.99', '$3.95', '$4.49', '$1.70',\n",
       "       '$8.99', '$2.00', '$3.88', '$25.99', '$399.99', '$17.99',\n",
       "       '$400.00', '$3.02', '$1.76', '$4.84', '$4.77', '$1.61', '$2.50',\n",
       "       '$1.59', '$6.49', '$1.29', '$5.00', '$13.99', '$299.99', '$379.99',\n",
       "       '$37.99', '$18.99', '$389.99', '$19.90', '$8.49', '$1.75',\n",
       "       '$14.00', '$4.85', '$46.99', '$109.99', '$154.99', '$3.08',\n",
       "       '$2.59', '$4.80', '$1.96', '$19.40', '$3.90', '$4.59', '$15.46',\n",
       "       '$3.04', '$4.29', '$2.60', '$3.28', '$4.60', '$28.99', '$2.95',\n",
       "       '$2.90', '$1.97', '$200.00', '$89.99', '$2.56', '$30.99', '$3.61',\n",
       "       '$394.99', '$1.26', '$1.20', '$1.04'], dtype=object)"
      ]
     },
     "execution_count": 10,
     "metadata": {},
     "output_type": "execute_result"
    }
   ],
   "source": [
    "# Let's eliminate that row. \n",
    "\n",
    "# Subset our Google dataframe to pick out just those rows whose value for the 'Price' column is NOT 'Everyone'. \n",
    "# Reassign that subset to the Google variable. \n",
    "# You can do this in two lines or one. Your choice! \n",
    "Google = Google[Google.Price != 'Everyone']\n",
    "\n",
    "# Check again the unique values of Google\n",
    "Google.Price.unique()"
   ]
  },
  {
   "cell_type": "markdown",
   "metadata": {
    "colab_type": "text",
    "id": "T43TB4qFFcvF"
   },
   "source": [
    "Our second problem remains: I'm seeing dollar symbols when I close my eyes! (And not in a good way). \n",
    "\n",
    "This is a problem because Python actually considers these values strings. So we can't do mathematical and statistical operations on them until we've made them into numbers. "
   ]
  },
  {
   "cell_type": "code",
   "execution_count": 11,
   "metadata": {
    "colab": {},
    "colab_type": "code",
    "id": "W87gVS9BFcvG"
   },
   "outputs": [
    {
     "data": {
      "text/plain": [
       "0        0.0\n",
       "1        0.0\n",
       "2        0.0\n",
       "3        0.0\n",
       "4        0.0\n",
       "        ... \n",
       "10836    0.0\n",
       "10837    0.0\n",
       "10838    0.0\n",
       "10839    0.0\n",
       "10840    0.0\n",
       "Name: Price, Length: 10840, dtype: float64"
      ]
     },
     "execution_count": 11,
     "metadata": {},
     "output_type": "execute_result"
    }
   ],
   "source": [
    "# Let's create a variable called nosymb.\n",
    "# This variable will take the Price column of Google and apply the str.replace() method. \n",
    "nosymb = Google['Price'].str.replace('$','')\n",
    "\n",
    "# Now we need to do two things:\n",
    "# i. Make the values in the nosymb variable numeric using the to_numeric() pandas method.\n",
    "# ii. Assign this new set of numeric, dollar-sign-less values to Google['Price']. \n",
    "# You can do this in one line if you wish.\n",
    "Google['Price'] = pd.to_numeric(nosymb)\n",
    "Google['Price']"
   ]
  },
  {
   "cell_type": "markdown",
   "metadata": {
    "colab_type": "text",
    "id": "LxpJQ9yyFcvI"
   },
   "source": [
    "Now let's check the data types for our Google dataframe again, to verify that the 'Price' column really is numeric now."
   ]
  },
  {
   "cell_type": "code",
   "execution_count": 12,
   "metadata": {
    "colab": {},
    "colab_type": "code",
    "id": "Fn5Gt-QbFcvI"
   },
   "outputs": [
    {
     "data": {
      "text/plain": [
       "Category     object\n",
       "Rating      float64\n",
       "Reviews      object\n",
       "Price       float64\n",
       "dtype: object"
      ]
     },
     "execution_count": 12,
     "metadata": {},
     "output_type": "execute_result"
    }
   ],
   "source": [
    "# Use the function dtypes. \n",
    "Google.dtypes"
   ]
  },
  {
   "cell_type": "markdown",
   "metadata": {
    "colab_type": "text",
    "id": "FgfuiVo0FcvK"
   },
   "source": [
    "Notice that the column `Reviews` is still an object column. We actually need this column to be a numeric column, too. "
   ]
  },
  {
   "cell_type": "code",
   "execution_count": 13,
   "metadata": {
    "colab": {},
    "colab_type": "code",
    "id": "MiVEWsWBFcvL"
   },
   "outputs": [
    {
     "data": {
      "text/plain": [
       "0           159\n",
       "1           967\n",
       "2         87510\n",
       "3        215644\n",
       "4           967\n",
       "          ...  \n",
       "10836        38\n",
       "10837         4\n",
       "10838         3\n",
       "10839       114\n",
       "10840    398307\n",
       "Name: Reviews, Length: 10840, dtype: int64"
      ]
     },
     "execution_count": 13,
     "metadata": {},
     "output_type": "execute_result"
    }
   ],
   "source": [
    "# Convert the 'Reviews' column to a numeric data type. \n",
    "Google['Reviews'] = pd.to_numeric(Google['Reviews'])\n",
    "Google['Reviews']"
   ]
  },
  {
   "cell_type": "code",
   "execution_count": 14,
   "metadata": {
    "colab": {},
    "colab_type": "code",
    "id": "wWJdXXTTFcvN"
   },
   "outputs": [
    {
     "data": {
      "text/plain": [
       "Category     object\n",
       "Rating      float64\n",
       "Reviews       int64\n",
       "Price       float64\n",
       "dtype: object"
      ]
     },
     "execution_count": 14,
     "metadata": {},
     "output_type": "execute_result"
    }
   ],
   "source": [
    "# Let's check the data types of Google again\n",
    "Google.dtypes"
   ]
  },
  {
   "cell_type": "markdown",
   "metadata": {
    "colab_type": "text",
    "id": "OiLm2GEKFcvP"
   },
   "source": [
    "### 2b. Add a `platform` column to both the `Apple` and the `Google` dataframes\n",
    "Let's add a new column to both dataframe objects called `platform`: all of its values in the Google dataframe will be just 'google', and all of its values for the Apple dataframe will be just 'apple'. \n",
    "\n",
    "The reason we're making this column is so that we can ultimately join our Apple and Google data together, and actually test out some hypotheses to solve the problem in our brief. "
   ]
  },
  {
   "cell_type": "code",
   "execution_count": 15,
   "metadata": {
    "colab": {},
    "colab_type": "code",
    "id": "mF-sOcx2FcvQ"
   },
   "outputs": [],
   "source": [
    "# Create a column called 'platform' in both the Apple and Google dataframes. \n",
    "# Add the value 'apple' and the value 'google' as appropriate. \n",
    "Apple['platform'] = 'apple'\n",
    "Google['platform'] = 'google'"
   ]
  },
  {
   "cell_type": "markdown",
   "metadata": {
    "colab_type": "text",
    "id": "EJcry17IFcvS"
   },
   "source": [
    "### 2c. Changing the column names to prepare for our join of the two datasets \n",
    "Since the easiest way to join two datasets is if they have both:\n",
    "- the same number of columns\n",
    "- the same column names\n",
    "we need to rename the columns of `Apple` so that they're the same as the ones of `Google`, or vice versa.\n",
    "\n",
    "In this case, we're going to change the `Apple` columns names to the names of the `Google` columns. \n",
    "\n",
    "This is an important step to unify the two datasets!"
   ]
  },
  {
   "cell_type": "code",
   "execution_count": 16,
   "metadata": {
    "colab": {},
    "colab_type": "code",
    "id": "bdt9XH2KFcvT"
   },
   "outputs": [],
   "source": [
    "# Create a variable called old_names where you'll store the column names of the Apple dataframe. \n",
    "# Use the feature .columns.\n",
    "old_names = Apple.columns\n",
    "\n",
    "# Create a variable called new_names where you'll store the column names of the Google dataframe. \n",
    "new_names = Google.columns\n",
    "\n",
    "# Use the rename() DataFrame method to change the columns names. \n",
    "Apple = Apple.rename(columns=dict(zip(old_names,new_names)))"
   ]
  },
  {
   "cell_type": "markdown",
   "metadata": {
    "colab_type": "text",
    "id": "qewPiLrRFcvX"
   },
   "source": [
    "### 2d. Join the two datasets \n",
    "Let's combine the two datasets into a single data frame called `df`."
   ]
  },
  {
   "cell_type": "code",
   "execution_count": 17,
   "metadata": {
    "colab": {},
    "colab_type": "code",
    "id": "jq6fGfvyFcvY"
   },
   "outputs": [
    {
     "data": {
      "text/html": [
       "<div>\n",
       "<style scoped>\n",
       "    .dataframe tbody tr th:only-of-type {\n",
       "        vertical-align: middle;\n",
       "    }\n",
       "\n",
       "    .dataframe tbody tr th {\n",
       "        vertical-align: top;\n",
       "    }\n",
       "\n",
       "    .dataframe thead th {\n",
       "        text-align: right;\n",
       "    }\n",
       "</style>\n",
       "<table border=\"1\" class=\"dataframe\">\n",
       "  <thead>\n",
       "    <tr style=\"text-align: right;\">\n",
       "      <th></th>\n",
       "      <th>Category</th>\n",
       "      <th>Rating</th>\n",
       "      <th>Reviews</th>\n",
       "      <th>Price</th>\n",
       "      <th>platform</th>\n",
       "    </tr>\n",
       "  </thead>\n",
       "  <tbody>\n",
       "    <tr>\n",
       "      <th>163</th>\n",
       "      <td>Games</td>\n",
       "      <td>3.5</td>\n",
       "      <td>18920</td>\n",
       "      <td>1.99</td>\n",
       "      <td>apple</td>\n",
       "    </tr>\n",
       "    <tr>\n",
       "      <th>6854</th>\n",
       "      <td>Games</td>\n",
       "      <td>4.0</td>\n",
       "      <td>79</td>\n",
       "      <td>0.00</td>\n",
       "      <td>apple</td>\n",
       "    </tr>\n",
       "    <tr>\n",
       "      <th>3289</th>\n",
       "      <td>Games</td>\n",
       "      <td>4.0</td>\n",
       "      <td>57</td>\n",
       "      <td>4.99</td>\n",
       "      <td>apple</td>\n",
       "    </tr>\n",
       "    <tr>\n",
       "      <th>805</th>\n",
       "      <td>Education</td>\n",
       "      <td>4.0</td>\n",
       "      <td>23</td>\n",
       "      <td>0.99</td>\n",
       "      <td>apple</td>\n",
       "    </tr>\n",
       "    <tr>\n",
       "      <th>6531</th>\n",
       "      <td>LIBRARIES_AND_DEMO</td>\n",
       "      <td>4.4</td>\n",
       "      <td>63</td>\n",
       "      <td>0.00</td>\n",
       "      <td>google</td>\n",
       "    </tr>\n",
       "    <tr>\n",
       "      <th>7622</th>\n",
       "      <td>FAMILY</td>\n",
       "      <td>NaN</td>\n",
       "      <td>5</td>\n",
       "      <td>0.00</td>\n",
       "      <td>google</td>\n",
       "    </tr>\n",
       "    <tr>\n",
       "      <th>7046</th>\n",
       "      <td>GAME</td>\n",
       "      <td>4.6</td>\n",
       "      <td>15</td>\n",
       "      <td>0.00</td>\n",
       "      <td>google</td>\n",
       "    </tr>\n",
       "    <tr>\n",
       "      <th>846</th>\n",
       "      <td>EDUCATION</td>\n",
       "      <td>4.3</td>\n",
       "      <td>206532</td>\n",
       "      <td>0.00</td>\n",
       "      <td>google</td>\n",
       "    </tr>\n",
       "    <tr>\n",
       "      <th>9183</th>\n",
       "      <td>SPORTS</td>\n",
       "      <td>NaN</td>\n",
       "      <td>6</td>\n",
       "      <td>0.00</td>\n",
       "      <td>google</td>\n",
       "    </tr>\n",
       "    <tr>\n",
       "      <th>1736</th>\n",
       "      <td>GAME</td>\n",
       "      <td>4.5</td>\n",
       "      <td>1385093</td>\n",
       "      <td>0.00</td>\n",
       "      <td>google</td>\n",
       "    </tr>\n",
       "    <tr>\n",
       "      <th>6781</th>\n",
       "      <td>Games</td>\n",
       "      <td>3.5</td>\n",
       "      <td>495</td>\n",
       "      <td>4.99</td>\n",
       "      <td>apple</td>\n",
       "    </tr>\n",
       "    <tr>\n",
       "      <th>7470</th>\n",
       "      <td>SHOPPING</td>\n",
       "      <td>4.6</td>\n",
       "      <td>69</td>\n",
       "      <td>0.00</td>\n",
       "      <td>google</td>\n",
       "    </tr>\n",
       "  </tbody>\n",
       "</table>\n",
       "</div>"
      ],
      "text/plain": [
       "                Category  Rating  Reviews  Price platform\n",
       "163                Games     3.5    18920   1.99    apple\n",
       "6854               Games     4.0       79   0.00    apple\n",
       "3289               Games     4.0       57   4.99    apple\n",
       "805            Education     4.0       23   0.99    apple\n",
       "6531  LIBRARIES_AND_DEMO     4.4       63   0.00   google\n",
       "7622              FAMILY     NaN        5   0.00   google\n",
       "7046                GAME     4.6       15   0.00   google\n",
       "846            EDUCATION     4.3   206532   0.00   google\n",
       "9183              SPORTS     NaN        6   0.00   google\n",
       "1736                GAME     4.5  1385093   0.00   google\n",
       "6781               Games     3.5      495   4.99    apple\n",
       "7470            SHOPPING     4.6       69   0.00   google"
      ]
     },
     "execution_count": 17,
     "metadata": {},
     "output_type": "execute_result"
    }
   ],
   "source": [
    "# Let's use the append() method to append Apple to Google. \n",
    "df = pd.concat([Google, Apple])\n",
    "\n",
    "# Using the sample() method with the number 12 passed to it, check 12 random points of your dataset.\n",
    "df.sample(12)"
   ]
  },
  {
   "cell_type": "markdown",
   "metadata": {
    "colab_type": "text",
    "id": "FjqsHugWFcvb"
   },
   "source": [
    "### 2e. Eliminate the NaN values\n",
    "\n",
    "As you can see there are some `NaN` values. We want to eliminate all these `NaN` values from the table."
   ]
  },
  {
   "cell_type": "code",
   "execution_count": 18,
   "metadata": {
    "colab": {},
    "colab_type": "code",
    "id": "Gp2q6GLyFcvb"
   },
   "outputs": [
    {
     "name": "stdout",
     "output_type": "stream",
     "text": [
      "(18037, 5)\n",
      "(16563, 5)\n"
     ]
    }
   ],
   "source": [
    "# Lets check first the dimesions of df before droping `NaN` values. Use the .shape feature. \n",
    "print(df.shape)\n",
    "\n",
    "# Use the dropna() method to eliminate all the NaN values, and overwrite the same dataframe with the result. \n",
    "df.dropna(inplace=True)\n",
    "\n",
    "# Check the new dimesions of our dataframe. \n",
    "print(df.shape)"
   ]
  },
  {
   "cell_type": "markdown",
   "metadata": {
    "colab_type": "text",
    "id": "qtfeQKtAFcvd"
   },
   "source": [
    "### 2f. Filter the data so that we only see whose apps that have been reviewed at least once\n",
    "\n",
    "Apps that haven't been reviewed yet can't help us solve our brief. \n",
    "\n",
    "So let's check to see if any apps have no reviews at all. "
   ]
  },
  {
   "cell_type": "code",
   "execution_count": 19,
   "metadata": {
    "colab": {},
    "colab_type": "code",
    "id": "Ge9OKXLNFcvd"
   },
   "outputs": [
    {
     "data": {
      "text/plain": [
       "929"
      ]
     },
     "execution_count": 19,
     "metadata": {},
     "output_type": "execute_result"
    }
   ],
   "source": [
    "# Subset your df to pick out just those rows whose value for 'Reviews' is equal to 0. \n",
    "# Do a count() on the result. \n",
    "len(df[df.Reviews == 0])"
   ]
  },
  {
   "cell_type": "markdown",
   "metadata": {
    "colab_type": "text",
    "id": "05f7H0kAFcvg"
   },
   "source": [
    "929 apps do not have reviews, we need to eliminate these points!"
   ]
  },
  {
   "cell_type": "code",
   "execution_count": 20,
   "metadata": {
    "colab": {},
    "colab_type": "code",
    "id": "pD8vmPjkFcvg"
   },
   "outputs": [
    {
     "name": "stdout",
     "output_type": "stream",
     "text": [
      "(15634, 5)\n"
     ]
    }
   ],
   "source": [
    "# Eliminate the points that have 0 reviews.\n",
    "df = df[df.Reviews != 0]\n",
    "print(df.shape)"
   ]
  },
  {
   "cell_type": "markdown",
   "metadata": {
    "colab_type": "text",
    "id": "ApnKES_bFcvi"
   },
   "source": [
    "### 2g. Summarize the data visually and analytically (by the column `platform`)"
   ]
  },
  {
   "cell_type": "markdown",
   "metadata": {
    "colab_type": "text",
    "id": "2smt9UocFcvj"
   },
   "source": [
    "What we need to solve our brief is a summary of the `Rating` column, but separated by the different platforms."
   ]
  },
  {
   "cell_type": "code",
   "execution_count": 21,
   "metadata": {
    "colab": {},
    "colab_type": "code",
    "id": "Vqckt347Fcvj"
   },
   "outputs": [
    {
     "data": {
      "text/html": [
       "<div>\n",
       "<style scoped>\n",
       "    .dataframe tbody tr th:only-of-type {\n",
       "        vertical-align: middle;\n",
       "    }\n",
       "\n",
       "    .dataframe tbody tr th {\n",
       "        vertical-align: top;\n",
       "    }\n",
       "\n",
       "    .dataframe thead th {\n",
       "        text-align: right;\n",
       "    }\n",
       "</style>\n",
       "<table border=\"1\" class=\"dataframe\">\n",
       "  <thead>\n",
       "    <tr style=\"text-align: right;\">\n",
       "      <th></th>\n",
       "      <th>count</th>\n",
       "      <th>mean</th>\n",
       "      <th>std</th>\n",
       "      <th>min</th>\n",
       "      <th>25%</th>\n",
       "      <th>50%</th>\n",
       "      <th>75%</th>\n",
       "      <th>max</th>\n",
       "    </tr>\n",
       "    <tr>\n",
       "      <th>platform</th>\n",
       "      <th></th>\n",
       "      <th></th>\n",
       "      <th></th>\n",
       "      <th></th>\n",
       "      <th></th>\n",
       "      <th></th>\n",
       "      <th></th>\n",
       "      <th></th>\n",
       "    </tr>\n",
       "  </thead>\n",
       "  <tbody>\n",
       "    <tr>\n",
       "      <th>apple</th>\n",
       "      <td>6268.0</td>\n",
       "      <td>4.049697</td>\n",
       "      <td>0.726943</td>\n",
       "      <td>1.0</td>\n",
       "      <td>4.0</td>\n",
       "      <td>4.5</td>\n",
       "      <td>4.5</td>\n",
       "      <td>5.0</td>\n",
       "    </tr>\n",
       "    <tr>\n",
       "      <th>google</th>\n",
       "      <td>9366.0</td>\n",
       "      <td>4.191757</td>\n",
       "      <td>0.515219</td>\n",
       "      <td>1.0</td>\n",
       "      <td>4.0</td>\n",
       "      <td>4.3</td>\n",
       "      <td>4.5</td>\n",
       "      <td>5.0</td>\n",
       "    </tr>\n",
       "  </tbody>\n",
       "</table>\n",
       "</div>"
      ],
      "text/plain": [
       "           count      mean       std  min  25%  50%  75%  max\n",
       "platform                                                     \n",
       "apple     6268.0  4.049697  0.726943  1.0  4.0  4.5  4.5  5.0\n",
       "google    9366.0  4.191757  0.515219  1.0  4.0  4.3  4.5  5.0"
      ]
     },
     "execution_count": 21,
     "metadata": {},
     "output_type": "execute_result"
    }
   ],
   "source": [
    "# To summarize analytically, let's use the groupby() method on our df.\n",
    "df.groupby('platform')['Rating'].describe()"
   ]
  },
  {
   "cell_type": "markdown",
   "metadata": {
    "colab_type": "text",
    "id": "8f9TqMtKFcvl"
   },
   "source": [
    "Interesting! Our means of 4.049697 and 4.191757 don't **seem** all that different! Perhaps we've solved our brief already: there's no significant difference between Google Play app reviews and Apple Store app reviews. We have an ***observed difference*** here: which is simply (4.191757 - 4.049697) = 0.14206. This is just the actual difference that we observed between the mean rating for apps from Google Play, and the mean rating for apps from the Apple Store. Let's look at how we're going to use this observed difference to solve our problem using a statistical test. \n",
    "\n",
    "**Outline of our method:**\n",
    "1. We'll assume that platform (i.e, whether the app was Google or Apple) really doesn’t impact on ratings. \n",
    "\n",
    "\n",
    "2. Given this assumption, we should actually be able to get a difference in mean rating for Apple apps and mean rating for Google apps that's pretty similar to the one we actually got (0.14206) just by: \n",
    "a. shuffling the ratings column, \n",
    "b. keeping the platform column the same,\n",
    "c. calculating the difference between the mean rating for Apple and the mean rating for Google. \n",
    "\n",
    "\n",
    "3. We can make the shuffle more useful by doing it many times, each time calculating the mean rating for Apple apps and the mean rating for Google apps, and the difference between these means. \n",
    "\n",
    "\n",
    "4. We can then take the mean of all these differences, and this will be called our permutation difference. This permutation difference will be great indicator of what the difference would be if our initial assumption were true and platform really doesn’t impact on ratings. \n",
    "\n",
    "\n",
    "5. Now we do a comparison. If the observed difference looks just like the permutation difference, then we stick with the claim that actually, platform doesn’t impact on ratings. If instead, however, the permutation difference differs significantly from the observed difference, we'll conclude: something's going on; the platform does in fact impact on ratings. \n",
    "\n",
    "\n",
    "6. As for what the definition of *significantly* is, we'll get to that. But there’s a brief summary of what we're going to do. Exciting!\n",
    "\n",
    "If you want to look more deeply at the statistics behind this project, check out [this resource](https://www.springboard.com/archeio/download/4ea4d453b0b84014bcef287c50f47f00/)."
   ]
  },
  {
   "cell_type": "markdown",
   "metadata": {
    "colab_type": "text",
    "id": "d6EhTxArFcvm"
   },
   "source": [
    "Let's also get a **visual summary** of the `Rating` column, separated by the different platforms. \n",
    "\n",
    "A good tool to use here is the boxplot!"
   ]
  },
  {
   "cell_type": "code",
   "execution_count": 22,
   "metadata": {
    "colab": {},
    "colab_type": "code",
    "id": "hFKjrlWgFcvm"
   },
   "outputs": [
    {
     "data": {
      "image/png": "[encoded data removed]",
      "text/plain": [
       "<Figure size 640x480 with 1 Axes>"
      ]
     },
     "metadata": {},
     "output_type": "display_data"
    }
   ],
   "source": [
    "# Call the boxplot() method on our df.\n",
    "df.boxplot(by='platform', column=['Rating'])\n",
    "plt.show()"
   ]
  },
  {
   "cell_type": "markdown",
   "metadata": {
    "colab_type": "text",
    "id": "FqTlAjnmFcvo"
   },
   "source": [
    "Here we see the same information as in the analytical summary, but with a boxplot. Can you see how the boxplot is working here? If you need to revise your boxplots, check out this this [link](https://www.kaggle.com/ramamet4/app-store-apple-data-set-10k-apps). "
   ]
  },
  {
   "cell_type": "markdown",
   "metadata": {
    "colab_type": "text",
    "id": "O8L-s1fgFcvp"
   },
   "source": [
    "## Stage 3 - Modelling"
   ]
  },
  {
   "cell_type": "markdown",
   "metadata": {
    "colab_type": "text",
    "id": "5fbRq2MZFcvq"
   },
   "source": [
    "### 3a. Hypothesis formulation\n",
    "\n",
    "Our **Null hypothesis** is just:\n",
    "\n",
    "**H<sub>null</sub>**: the observed difference in the mean rating of Apple Store and Google Play apps is due to chance (and thus not due to the platform).\n",
    "\n",
    "The more interesting hypothesis is called the **Alternate hypothesis**:\n",
    "\n",
    "**H<sub>alternative</sub>**: the observed difference in the average ratings of apple and google users is not due to chance (and is actually due to platform)\n",
    "\n",
    "We're also going to pick a **significance level** of 0.05. "
   ]
  },
  {
   "cell_type": "markdown",
   "metadata": {
    "colab_type": "text",
    "id": "TjBqkabaFcvq"
   },
   "source": [
    "### 3b. Getting the distribution of the data\n",
    "Now that the hypotheses and significance level are defined, we can select a statistical test to determine which hypothesis to accept. \n",
    "\n",
    "There are many different statistical tests, all with different assumptions. You'll generate an excellent judgement about when to use which statistical tests over the Data Science Career Track course. But in general, one of the most important things to determine is the **distribution of the data**.   "
   ]
  },
  {
   "cell_type": "code",
   "execution_count": 23,
   "metadata": {
    "colab": {},
    "colab_type": "code",
    "id": "bFwVhkeWFcvr"
   },
   "outputs": [],
   "source": [
    "# Create a subset of the column 'Rating' by the different platforms.\n",
    "# Call the subsets 'apple' and 'google' \n",
    "apple = df['Rating'][df.platform == 'apple']\n",
    "google = df['Rating'][df.platform == 'google']"
   ]
  },
  {
   "cell_type": "code",
   "execution_count": 24,
   "metadata": {
    "colab": {},
    "colab_type": "code",
    "id": "oPPFpwPvFcvu"
   },
   "outputs": [
    {
     "data": {
      "text/plain": [
       "NormaltestResult(statistic=1778.9974234584017, pvalue=0.0)"
      ]
     },
     "execution_count": 24,
     "metadata": {},
     "output_type": "execute_result"
    }
   ],
   "source": [
    "# Using the stats.normaltest() method, get an indication of whether the apple data are normally distributed\n",
    "# Save the result in a variable called apple_normal, and print it out\n",
    "apple_normal = stats.normaltest(apple)\n",
    "apple_normal"
   ]
  },
  {
   "cell_type": "code",
   "execution_count": 25,
   "metadata": {
    "colab": {},
    "colab_type": "code",
    "id": "rCdh8a8KFcvw"
   },
   "outputs": [
    {
     "data": {
      "text/plain": [
       "NormaltestResult(statistic=3678.6157187516856, pvalue=0.0)"
      ]
     },
     "execution_count": 25,
     "metadata": {},
     "output_type": "execute_result"
    }
   ],
   "source": [
    "# Do the same with the google data. \n",
    "google_normal = stats.normaltest(google)\n",
    "google_normal"
   ]
  },
  {
   "cell_type": "markdown",
   "metadata": {
    "colab_type": "text",
    "id": "9gDqu21yFcv0"
   },
   "source": [
    "Since the null hypothesis of the normaltest() is that the data are normally distributed, the lower the p-value in the result of this test, the more likely the data are to be non-normal. \n",
    "\n",
    "Since the p-values is 0 for both tests, regardless of what we pick for the significance level, our conclusion is that the data are not normally distributed. \n",
    "\n",
    "We can actually also check out the distribution of the data visually with a histogram. A normal distribution has the following visual characteristics:\n",
    "    - symmetric\n",
    "    - unimodal (one hump)\n",
    "As well as a roughly identical mean, median and mode. "
   ]
  },
  {
   "cell_type": "code",
   "execution_count": 26,
   "metadata": {
    "colab": {},
    "colab_type": "code",
    "id": "P9tT9RjNFcv1"
   },
   "outputs": [
    {
     "data": {
      "image/png": "[encoded data removed]",
      "text/plain": [
       "<Figure size 640x480 with 1 Axes>"
      ]
     },
     "metadata": {},
     "output_type": "display_data"
    }
   ],
   "source": [
    "# Create a histogram of the apple reviews distribution\n",
    "apple.hist()\n",
    "plt.show()"
   ]
  },
  {
   "cell_type": "code",
   "execution_count": 27,
   "metadata": {
    "colab": {},
    "colab_type": "code",
    "id": "8dE1uC5iFcv2"
   },
   "outputs": [
    {
     "data": {
      "image/png": "[encoded data removed]",
      "text/plain": [
       "<Figure size 640x480 with 1 Axes>"
      ]
     },
     "metadata": {},
     "output_type": "display_data"
    }
   ],
   "source": [
    "# Create a histogram of the google data\n",
    "google.hist()\n",
    "plt.show()"
   ]
  },
  {
   "cell_type": "markdown",
   "metadata": {
    "colab_type": "text",
    "id": "QhZV89FzFcv5"
   },
   "source": [
    "### 3c. Permutation test\n",
    "Since the data aren't normally distributed, we're using a *non-parametric* test here. This is simply a label for statistical tests used when the data aren't normally distributed. These tests are extraordinarily powerful due to how few assumptions we need to make.  \n",
    "\n",
    "Check out more about permutations [here.](http://rasbt.github.io/mlxtend/user_guide/evaluate/permutation_test/)"
   ]
  },
  {
   "cell_type": "code",
   "execution_count": 28,
   "metadata": {
    "colab": {},
    "colab_type": "code",
    "id": "bxNhQgpqFcv6"
   },
   "outputs": [
    {
     "data": {
      "text/html": [
       "<div>\n",
       "<style scoped>\n",
       "    .dataframe tbody tr th:only-of-type {\n",
       "        vertical-align: middle;\n",
       "    }\n",
       "\n",
       "    .dataframe tbody tr th {\n",
       "        vertical-align: top;\n",
       "    }\n",
       "\n",
       "    .dataframe thead th {\n",
       "        text-align: right;\n",
       "    }\n",
       "</style>\n",
       "<table border=\"1\" class=\"dataframe\">\n",
       "  <thead>\n",
       "    <tr style=\"text-align: right;\">\n",
       "      <th></th>\n",
       "      <th>count</th>\n",
       "      <th>mean</th>\n",
       "      <th>std</th>\n",
       "      <th>min</th>\n",
       "      <th>25%</th>\n",
       "      <th>50%</th>\n",
       "      <th>75%</th>\n",
       "      <th>max</th>\n",
       "    </tr>\n",
       "    <tr>\n",
       "      <th>platform</th>\n",
       "      <th></th>\n",
       "      <th></th>\n",
       "      <th></th>\n",
       "      <th></th>\n",
       "      <th></th>\n",
       "      <th></th>\n",
       "      <th></th>\n",
       "      <th></th>\n",
       "    </tr>\n",
       "  </thead>\n",
       "  <tbody>\n",
       "    <tr>\n",
       "      <th>apple</th>\n",
       "      <td>6268.0</td>\n",
       "      <td>4.136535</td>\n",
       "      <td>0.616562</td>\n",
       "      <td>1.0</td>\n",
       "      <td>4.0</td>\n",
       "      <td>4.3</td>\n",
       "      <td>4.5</td>\n",
       "      <td>5.0</td>\n",
       "    </tr>\n",
       "    <tr>\n",
       "      <th>google</th>\n",
       "      <td>9366.0</td>\n",
       "      <td>4.133643</td>\n",
       "      <td>0.610556</td>\n",
       "      <td>1.0</td>\n",
       "      <td>4.0</td>\n",
       "      <td>4.3</td>\n",
       "      <td>4.5</td>\n",
       "      <td>5.0</td>\n",
       "    </tr>\n",
       "  </tbody>\n",
       "</table>\n",
       "</div>"
      ],
      "text/plain": [
       "           count      mean       std  min  25%  50%  75%  max\n",
       "platform                                                     \n",
       "apple     6268.0  4.136535  0.616562  1.0  4.0  4.3  4.5  5.0\n",
       "google    9366.0  4.133643  0.610556  1.0  4.0  4.3  4.5  5.0"
      ]
     },
     "execution_count": 28,
     "metadata": {},
     "output_type": "execute_result"
    }
   ],
   "source": [
    "# Create a column called `Permutation1`, and assign to it the result of permuting (shuffling) the Rating column\n",
    "# This assignment will use our numpy object's random.permutation() method\n",
    "df['Permutation1'] = np.random.permutation(df['Rating'])\n",
    "\n",
    "# Call the describe() method on our permutation grouped by 'platform'. \n",
    "df.groupby('platform')['Permutation1'].describe()"
   ]
  },
  {
   "cell_type": "code",
   "execution_count": 30,
   "metadata": {
    "colab": {},
    "colab_type": "code",
    "id": "AaGNfPGTFcv7"
   },
   "outputs": [
    {
     "data": {
      "text/html": [
       "<div>\n",
       "<style scoped>\n",
       "    .dataframe tbody tr th:only-of-type {\n",
       "        vertical-align: middle;\n",
       "    }\n",
       "\n",
       "    .dataframe tbody tr th {\n",
       "        vertical-align: top;\n",
       "    }\n",
       "\n",
       "    .dataframe thead th {\n",
       "        text-align: right;\n",
       "    }\n",
       "</style>\n",
       "<table border=\"1\" class=\"dataframe\">\n",
       "  <thead>\n",
       "    <tr style=\"text-align: right;\">\n",
       "      <th></th>\n",
       "      <th>count</th>\n",
       "      <th>mean</th>\n",
       "      <th>std</th>\n",
       "      <th>min</th>\n",
       "      <th>25%</th>\n",
       "      <th>50%</th>\n",
       "      <th>75%</th>\n",
       "      <th>max</th>\n",
       "    </tr>\n",
       "    <tr>\n",
       "      <th>platform</th>\n",
       "      <th></th>\n",
       "      <th></th>\n",
       "      <th></th>\n",
       "      <th></th>\n",
       "      <th></th>\n",
       "      <th></th>\n",
       "      <th></th>\n",
       "      <th></th>\n",
       "    </tr>\n",
       "  </thead>\n",
       "  <tbody>\n",
       "    <tr>\n",
       "      <th>apple</th>\n",
       "      <td>0.0</td>\n",
       "      <td>0.086838</td>\n",
       "      <td>-0.110381</td>\n",
       "      <td>0.0</td>\n",
       "      <td>0.0</td>\n",
       "      <td>-0.2</td>\n",
       "      <td>0.0</td>\n",
       "      <td>0.0</td>\n",
       "    </tr>\n",
       "    <tr>\n",
       "      <th>google</th>\n",
       "      <td>0.0</td>\n",
       "      <td>-0.058114</td>\n",
       "      <td>0.095337</td>\n",
       "      <td>0.0</td>\n",
       "      <td>0.0</td>\n",
       "      <td>0.0</td>\n",
       "      <td>0.0</td>\n",
       "      <td>0.0</td>\n",
       "    </tr>\n",
       "  </tbody>\n",
       "</table>\n",
       "</div>"
      ],
      "text/plain": [
       "          count      mean       std  min  25%  50%  75%  max\n",
       "platform                                                    \n",
       "apple       0.0  0.086838 -0.110381  0.0  0.0 -0.2  0.0  0.0\n",
       "google      0.0 -0.058114  0.095337  0.0  0.0  0.0  0.0  0.0"
      ]
     },
     "execution_count": 30,
     "metadata": {},
     "output_type": "execute_result"
    }
   ],
   "source": [
    "# Lets compare with the previous analytical summary:\n",
    "df.groupby('platform')['Permutation1'].describe() - df.groupby('platform')['Rating'].describe()"
   ]
  },
  {
   "cell_type": "code",
   "execution_count": 45,
   "metadata": {
    "colab": {},
    "colab_type": "code",
    "id": "aJPNpX0JFcv-"
   },
   "outputs": [
    {
     "data": {
      "text/plain": [
       "[-0.000543579057763921,\n",
       " -0.015110719010948515,\n",
       " 0.012638750515960417,\n",
       " 0.013064846017334375,\n",
       " 0.010534903977931442,\n",
       " 0.0008944932593699662,\n",
       " 0.001720053293279733,\n",
       " -0.002434377845105473,\n",
       " -0.0030468901283295935,\n",
       " -0.0019283894372259525,\n",
       " -0.0009696745591361022,\n",
       " -0.003446354660866291,\n",
       " -0.007467630955072302,\n",
       " 0.010428380102587731,\n",
       " -0.014098742195186809,\n",
       " -0.004698010196148239,\n",
       " 0.0007879693840262547,\n",
       " 0.006140794120022441,\n",
       " -0.0024077468762691012,\n",
       " 0.003184756579249104,\n",
       " -0.009651370399607728,\n",
       " 0.010987630448139996,\n",
       " -0.0010761984344789255,\n",
       " 0.01650024099715175,\n",
       " -0.004112128881761379,\n",
       " 0.0013472197295785193,\n",
       " 0.00025535000731125024,\n",
       " 0.02624717559105605,\n",
       " -0.009651370399607728,\n",
       " -0.003419723692030807,\n",
       " -0.007414369017399558,\n",
       " 1.567128778923177e-05,\n",
       " -0.008958965209877157,\n",
       " -0.008825810365697961,\n",
       " -0.01790697073870895,\n",
       " -0.01881242367912428,\n",
       " -0.0010761984344798137,\n",
       " 0.009789236850528127,\n",
       " -0.032394217785385315,\n",
       " -0.005523570230058894,\n",
       " 0.01034848719608128,\n",
       " 0.002252672669997402,\n",
       " -0.007600785799251497,\n",
       " 0.008830521972440053,\n",
       " -0.029305025400431006,\n",
       " 0.0006548145398470595,\n",
       " 0.004622828896383879,\n",
       " 0.0008678622905335942,\n",
       " -0.007094797391371088,\n",
       " 0.014423025427958258,\n",
       " 0.020414993416014937,\n",
       " -0.006588808983490679,\n",
       " -0.01404548025751673,\n",
       " -0.006349130263968661,\n",
       " -0.011488907249279201,\n",
       " -0.012101419532502433,\n",
       " 0.001453743604923119,\n",
       " -0.012474253096204535,\n",
       " 0.002066255888145463,\n",
       " 0.0030249707662362013,\n",
       " 0.004409781145696456,\n",
       " 0.00017545710080302257,\n",
       " -0.0018484965307177248,\n",
       " -0.009358429742413854,\n",
       " -0.011355752405100894,\n",
       " 0.00451630502103928,\n",
       " -1.0959681046252001e-05,\n",
       " -0.008586131646176831,\n",
       " 0.0006548145398488359,\n",
       " 0.007552235468321733,\n",
       " -0.007440999986236818,\n",
       " 0.011094154323482819,\n",
       " -0.005709987011909057,\n",
       " 0.0019863629816390116,\n",
       " -0.0019283894372259525,\n",
       " 0.026060758809205886,\n",
       " -0.007440999986236818,\n",
       " 0.005448388930293646,\n",
       " -0.007547523861579641,\n",
       " -0.00360614047388097,\n",
       " -0.0026474255957911197,\n",
       " 0.007179401904620519,\n",
       " -0.0017686036242094971,\n",
       " 0.03162663129588861,\n",
       " 0.013837144113572286,\n",
       " -0.008399714864326668,\n",
       " -0.0005169480889266609,\n",
       " 0.005501650867965502,\n",
       " 0.006833199309753901,\n",
       " 0.00012219516313205503,\n",
       " -0.025283749106224995,\n",
       " -0.0017686036242103853,\n",
       " -0.005709987011909057,\n",
       " -0.00038379324474835386,\n",
       " 0.0050755553665924324,\n",
       " 0.006779937372082934,\n",
       " -0.003579509505044598,\n",
       " 0.003557590142951206,\n",
       " 0.001080910041221017,\n",
       " -0.00232785396976265,\n",
       " 0.013730620238228575,\n",
       " 0.002039624919309091,\n",
       " 0.004835876647068638,\n",
       " -0.00453822438313356,\n",
       " 0.0032646494857573316,\n",
       " -0.014657992540739073,\n",
       " 0.005581543774471953,\n",
       " -0.010689978184204918,\n",
       " 0.008857152941275537,\n",
       " -0.011462276280442829,\n",
       " 0.020228576634164774,\n",
       " -0.006295868326297693,\n",
       " 0.0035842211117866896,\n",
       " -0.01923851918049735,\n",
       " -0.008772548428026994,\n",
       " 0.0007879693840271429,\n",
       " -0.001182722309822637,\n",
       " -0.014205266070531408,\n",
       " -0.011355752405100006,\n",
       " 0.013011584079661631,\n",
       " 0.007712021281336412,\n",
       " -0.006562178014654307,\n",
       " 0.0017733152309515887,\n",
       " -0.0018484965307177248,\n",
       " -0.008666024552683282,\n",
       " -0.01985103146372147,\n",
       " -0.005869772824923736,\n",
       " -0.0014224010293437672,\n",
       " -0.01753413717500596,\n",
       " -0.015829755169515458,\n",
       " -0.002434377845104585,\n",
       " -0.005656725074237201,\n",
       " -0.005656725074238089,\n",
       " 0.013677358300556719,\n",
       " 0.011333833043005725,\n",
       " -0.0070681664225356045,\n",
       " -0.0016620797488666739,\n",
       " -0.009038858116384496,\n",
       " -0.0013957700605082834,\n",
       " -0.007467630955072302,\n",
       " 0.001427112636086747,\n",
       " 0.002412458483011193,\n",
       " 0.012532226640616706,\n",
       " -0.0052838915105368756,\n",
       " -0.00829319098898118,\n",
       " 0.004702721802889442,\n",
       " 0.031227166763351022,\n",
       " 0.0026787681713695832,\n",
       " -0.0012892461851672365,\n",
       " 0.0006281835710124639,\n",
       " -0.007094797391371088,\n",
       " -0.0033131998166862076,\n",
       " -0.006109451544447531,\n",
       " 0.006939723185098501,\n",
       " -0.0001441145252254472,\n",
       " -0.02088963924831777,\n",
       " -0.008106774207131018,\n",
       " -0.0019550204060614362,\n",
       " -0.019025471429811702,\n",
       " -0.013379706036620753,\n",
       " 0.008244640658052305,\n",
       " 0.009096831660797555,\n",
       " -0.0044849624454625925,\n",
       " 0.0030782327039062807,\n",
       " -0.0047779031026555785,\n",
       " 0.0023325655765047415,\n",
       " -0.0007033648707777118,\n",
       " -0.023898938726763852,\n",
       " -0.001022936496807958,\n",
       " 0.008510950346410695,\n",
       " -0.02645551173500138,\n",
       " -0.009198643929400063,\n",
       " 0.010215332351902084,\n",
       " 0.00443641211453194,\n",
       " -0.011275859498592666,\n",
       " -9.085258755447967e-05,\n",
       " 0.0009477551970418219,\n",
       " 0.0036641140182949172,\n",
       " 0.010934368510469028,\n",
       " 0.005182079241935256,\n",
       " 0.002012993950473607,\n",
       " 0.010721320759781605,\n",
       " -0.00523062957286502,\n",
       " -0.0016088178111957063,\n",
       " -0.014524837696559878,\n",
       " -0.010956287872563308,\n",
       " -0.006535547045819712,\n",
       " -0.000836519714956907,\n",
       " -0.010263882682831849,\n",
       " 0.006433734777217204,\n",
       " -0.019025471429811702,\n",
       " -0.009624739430772244,\n",
       " 0.0050222934289196886,\n",
       " -0.004857796009163806,\n",
       " -0.016815101016439016,\n",
       " -0.010476930433517495,\n",
       " -0.00419202178826783,\n",
       " -0.019265150149332833,\n",
       " 0.0011341719788910964,\n",
       " -0.004511593414298076,\n",
       " -0.007014904484863749,\n",
       " 0.0016934223244442492,\n",
       " -0.004058866944088635,\n",
       " 0.015035537711183267,\n",
       " 0.004143471457338066,\n",
       " 0.001453743604923119,\n",
       " 0.01170666660670694,\n",
       " -0.016309112608559495,\n",
       " -0.0017952345930467573,\n",
       " 0.005981008307008651,\n",
       " -0.016282481639723123,\n",
       " 0.0035842211117866896,\n",
       " -0.0017686036242094971,\n",
       " -0.0010761984344789255,\n",
       " -0.004058866944088635,\n",
       " 0.012825167297811468,\n",
       " -0.016468898421575062,\n",
       " 0.008084854845038514,\n",
       " 0.020628041166700584,\n",
       " -0.01071660915304129,\n",
       " 0.004995662460084205,\n",
       " 0.007072878029276808,\n",
       " -0.022567390284974564,\n",
       " -0.011488907249278313,\n",
       " 0.012692012453630497,\n",
       " -0.0038191882245666164,\n",
       " -0.006242606388625838,\n",
       " 0.008910414878946504,\n",
       " 0.005767960556322116,\n",
       " -0.006322499295132289,\n",
       " -0.0033131998166862076,\n",
       " -0.000996305527971586,\n",
       " -0.00744099998623593,\n",
       " 0.013384417643361957,\n",
       " 0.005075555366591544,\n",
       " 0.013357786674525585,\n",
       " -0.00616271348211761,\n",
       " -0.0015022939358519949,\n",
       " -0.01969124565070679,\n",
       " 0.008324533564560532,\n",
       " -0.02472449876067362,\n",
       " -0.004245283725939686,\n",
       " -0.0015555558735238506,\n",
       " -0.0008897816526278746,\n",
       " 0.013384417643362845,\n",
       " 0.015115430617689718,\n",
       " 0.0055282818368000974,\n",
       " 0.019349754662583152,\n",
       " -0.0013691390916727997,\n",
       " -0.005257260541700504,\n",
       " 0.006220687026530669,\n",
       " -0.013060134410591395,\n",
       " 0.01753884878174894,\n",
       " 0.01753884878174805,\n",
       " -0.00046368615125569335,\n",
       " 0.006300579933038897,\n",
       " 0.00992239169470821,\n",
       " -0.02243423544079448,\n",
       " 0.003184756579249992,\n",
       " 0.0037440069248004804,\n",
       " 0.00701961609160584,\n",
       " -0.007041535453700121,\n",
       " 0.0045695669587120236,\n",
       " -0.006455654139312372,\n",
       " 0.013224631830348166,\n",
       " 0.005395126992620902,\n",
       " 0.003504328205278462,\n",
       " -0.00821329808247473,\n",
       " 0.02198622057732713,\n",
       " -0.00427191469477517,\n",
       " -0.0036594024115519375,\n",
       " 0.0005216596956687525,\n",
       " -0.01180847887530767,\n",
       " -0.00847960777083312,\n",
       " 0.010934368510469028,\n",
       " -0.0011028294033144093,\n",
       " -0.006029558637938415,\n",
       " 0.009522927162170625,\n",
       " 0.0047293527717267025,\n",
       " -0.0016088178111965945,\n",
       " 0.02105413666807454,\n",
       " 0.002226041701160142,\n",
       " 0.0018798391062953002,\n",
       " 0.0009477551970418219,\n",
       " 0.006380472839548013,\n",
       " -0.010157358807488137,\n",
       " 0.0050222934289196886,\n",
       " 0.020201945665328402,\n",
       " -0.0033930927231944352,\n",
       " -0.01119596659208355,\n",
       " -0.0028604733464776544,\n",
       " 0.0023059346076683696,\n",
       " -0.011488907249279201,\n",
       " 0.008644105190588114,\n",
       " -0.002434377845104585,\n",
       " -0.011595431124622024,\n",
       " -0.0019017584683895805,\n",
       " -0.006615439952327051,\n",
       " -0.0121546814701734,\n",
       " -0.007334476110893107,\n",
       " 0.003504328205278462,\n",
       " -0.009811156212624184,\n",
       " -0.001635448780030302,\n",
       " -0.003925712099910328,\n",
       " -0.009251905867071919,\n",
       " -0.003233306910178868,\n",
       " 0.01309147698616897,\n",
       " -0.006482285108148744,\n",
       " -0.002594163658120152,\n",
       " 6.893322545931113e-05,\n",
       " -0.008932334241041673,\n",
       " -0.00104956746564433,\n",
       " -0.004085497912925007,\n",
       " 0.008510950346410695,\n",
       " -0.027600643394939617,\n",
       " 0.005767960556322116,\n",
       " -0.0019017584683895805,\n",
       " 0.0122925479210938,\n",
       " -0.0012626152163290882,\n",
       " -0.003153414003673305,\n",
       " -0.0176140300815133,\n",
       " 0.01402356089542156,\n",
       " 0.0060076392758450226,\n",
       " -0.006429023170476,\n",
       " -0.012687300846889293,\n",
       " 0.0007879693840271429,\n",
       " 0.00033524291381858973,\n",
       " 0.006513627683724543,\n",
       " -0.017640661050348783,\n",
       " 0.010561534946767814,\n",
       " 0.01607414549577868,\n",
       " 0.000441766789161413,\n",
       " 0.015994252589270452,\n",
       " 0.0021727797634891743,\n",
       " -0.004431700507790737,\n",
       " 0.01479585899166036,\n",
       " -0.016921624891782727,\n",
       " 0.009389772317992318,\n",
       " -0.006482285108148744,\n",
       " -0.003899081131073956,\n",
       " -0.0034729856297017747,\n",
       " 0.008830521972440941,\n",
       " 0.01514206158652609,\n",
       " 0.004276626301518149,\n",
       " -0.0097845252437887,\n",
       " -0.011329121436263634,\n",
       " -0.0023278539697617617,\n",
       " -0.004990950853343001,\n",
       " 0.0055282818368000974,\n",
       " -0.004165390819432346,\n",
       " 0.004995662460084205,\n",
       " -0.007201321266713023,\n",
       " 0.002385827514174821,\n",
       " 0.007498973530649877,\n",
       " 0.016686657779001912,\n",
       " -0.0015821868423584462,\n",
       " -0.0047779031026555785,\n",
       " -0.015430290636977873,\n",
       " 0.001746684262116105,\n",
       " -0.006215975419789466,\n",
       " 0.002732030109041439,\n",
       " 0.007552235468321733,\n",
       " -0.0014756629670147348,\n",
       " -0.00991768008796523,\n",
       " 0.01993563597697179,\n",
       " 0.001267326823072068,\n",
       " -0.010636716246533062,\n",
       " -0.014950933197933836,\n",
       " 0.0033978043299356386,\n",
       " -0.019904293401393325,\n",
       " -0.002594163658120152,\n",
       " 0.007206032873456891,\n",
       " -0.014604730603068994,\n",
       " 0.005581543774471953,\n",
       " 0.005182079241935256,\n",
       " -0.010423668495846528,\n",
       " 0.007525604499485361,\n",
       " 0.008697367128260858,\n",
       " -0.0015555558735238506,\n",
       " 0.004036947581995243,\n",
       " -0.001795234593044981,\n",
       " 0.005794591525158488,\n",
       " -0.016175957764381188,\n",
       " -0.0037392953180583888,\n",
       " 0.013198000861511794,\n",
       " -0.012048157594830577,\n",
       " -0.005496939261222522,\n",
       " 0.0017999461997888488,\n",
       " -0.006908380609520037,\n",
       " -0.00746763095507319,\n",
       " -0.010636716246533062,\n",
       " 0.008910414878947392,\n",
       " 0.0014271126360876352,\n",
       " -0.00805351226946005,\n",
       " -0.009331798773577482,\n",
       " 0.00544838893029187,\n",
       " 0.011253940136497498,\n",
       " 0.0002020880696402827,\n",
       " -0.004511593414298076,\n",
       " 0.001746684262116105,\n",
       " -0.012447622127369051,\n",
       " -0.01524387385512771,\n",
       " 0.007632128374828184,\n",
       " 0.0038771617689805637,\n",
       " -0.005337153448208731,\n",
       " 0.003957054675487903,\n",
       " 0.010241963320738456,\n",
       " 0.005554912805635581,\n",
       " -0.006615439952325275,\n",
       " -0.00025063840056915865,\n",
       " 0.001906470075130784,\n",
       " -0.005070843759850341,\n",
       " 0.006966354153933096,\n",
       " 0.006513627683724543,\n",
       " -0.008239929051311101,\n",
       " 0.015355109337211736,\n",
       " 0.008244640658053193,\n",
       " -0.0028338423776421706,\n",
       " -0.007387738048564962,\n",
       " -0.005869772824923736,\n",
       " 0.006700044465576482,\n",
       " -0.0039523430687467,\n",
       " 0.00046839775799778494,\n",
       " 0.0008146003528626267,\n",
       " 0.006513627683724543,\n",
       " -0.0043518076012842855,\n",
       " 0.007925069032022058,\n",
       " 0.007152770935783259,\n",
       " 0.010721320759782493,\n",
       " -0.004085497912925895,\n",
       " 0.007951700000859319,\n",
       " 0.0015336365114295702,\n",
       " -0.002301223000926278,\n",
       " 0.014849120929332216,\n",
       " -0.0030735210971650773,\n",
       " -0.008080143238295534,\n",
       " -0.003952343068747588,\n",
       " -0.0002772693694046424,\n",
       " -0.011462276280443717,\n",
       " -0.01095628787256242,\n",
       " 0.004489674052204684,\n",
       " -0.014711254478410929,\n",
       " -0.01609606485787296,\n",
       " -0.01977113855721413,\n",
       " 0.00949629619333514,\n",
       " -0.0008098887461223114,\n",
       " -0.0028871043153140263,\n",
       " 0.022465578016371168,\n",
       " -0.009757894274950552,\n",
       " -0.0036860333803883094,\n",
       " -0.010077465900981686,\n",
       " 0.003637483049456769,\n",
       " -0.0111160736855771,\n",
       " -0.003712664349223793,\n",
       " 0.004010316613159759,\n",
       " 0.0013205887607421474,\n",
       " -0.0068817496406845535,\n",
       " 0.011147416261155563,\n",
       " -0.007467630955072302,\n",
       " -0.01053019237118935,\n",
       " -0.008266560020146585,\n",
       " -0.0056034631365662335,\n",
       " -0.024191879383956838,\n",
       " 0.01724590812455329,\n",
       " -0.012607407940382842,\n",
       " -0.002487639782777329,\n",
       " 0.0011075410100565009,\n",
       " 0.013544203456378412,\n",
       " -0.00797361936295271,\n",
       " -0.012474253096204535,\n",
       " -0.018599375928438633,\n",
       " 0.005901115400500423,\n",
       " 0.017352431999897888,\n",
       " -0.010343775589340076,\n",
       " 0.001613529417937798,\n",
       " -0.01489767126026198,\n",
       " -0.01010409686981717,\n",
       " 0.009443034255663285,\n",
       " -0.004484962445463481,\n",
       " -0.007494261923907786,\n",
       " 0.008510950346410695,\n",
       " -0.026215833015478474,\n",
       " -0.011941633719487754,\n",
       " 0.0076321283748290725,\n",
       " 0.0012406958542365842,\n",
       " 0.0182312539714804,\n",
       " 0.006247317995367041,\n",
       " 0.0063538418707107525,\n",
       " 0.00811148581387311,\n",
       " 0.00795170000085843,\n",
       " -0.0004636861512565815,\n",
       " -0.0021946991255834547,\n",
       " -0.00427191469477517,\n",
       " 0.007552235468320845,\n",
       " -0.008106774207131018,\n",
       " 0.007232663842291487,\n",
       " -0.004911057946834774,\n",
       " -0.005736617980745429,\n",
       " 0.0083777955022315,\n",
       " -0.009571477493100389,\n",
       " 0.013783882175899542,\n",
       " -0.005310522479372359,\n",
       " -0.001528924904689255,\n",
       " 0.008297902595723272,\n",
       " -0.024431558103480633,\n",
       " -0.01609606485787296,\n",
       " 0.00547501989912913,\n",
       " 0.019456278537925975,\n",
       " 0.0010010171347136776,\n",
       " -0.001821865561882241,\n",
       " -0.011675324031130252,\n",
       " 0.008777260034769085,\n",
       " -0.011941633719488642,\n",
       " -0.004192021788268718,\n",
       " 0.01921659981840307,\n",
       " 0.00315812561041362,\n",
       " -0.014338420914709715,\n",
       " 0.013304524736856393,\n",
       " -0.008532869708504975,\n",
       " -0.01724119651781386,\n",
       " -0.024697867791837247,\n",
       " -0.005630094105400829,\n",
       " -0.0036860333803883094,\n",
       " -0.007440999986237706,\n",
       " 0.006833199309753901,\n",
       " 0.014023560895422449,\n",
       " -0.005630094105400829,\n",
       " 0.007392449655306166,\n",
       " 0.001427112636086747,\n",
       " -0.011781847906473075,\n",
       " -0.00805351226946005,\n",
       " -0.006535547045819712,\n",
       " 0.009895760725871838,\n",
       " 0.006886461247426645,\n",
       " 0.0016934223244442492,\n",
       " -0.0005968409954357767,\n",
       " 0.006114163151187846,\n",
       " -0.006375761232804145,\n",
       " -0.002966997221821366,\n",
       " 0.00539512699262179,\n",
       " -0.0018751274995532086,\n",
       " 0.000281980976146734,\n",
       " 0.006566889621397287,\n",
       " 0.01719264618688321,\n",
       " 0.005075555366591544,\n",
       " -0.019025471429811702,\n",
       " 0.009549558131006108,\n",
       " 0.013837144113572286,\n",
       " -0.01239436018969542,\n",
       " 0.013837144113571398,\n",
       " -0.013113396348262363,\n",
       " 0.010055546538886517,\n",
       " 0.003664114018293141,\n",
       " 0.014529549303302858,\n",
       " 0.004755983740561298,\n",
       " -0.007227952235549395,\n",
       " -0.010210620745159993,\n",
       " 0.0026787681713704714,\n",
       " -0.0009963055279733624,\n",
       " -0.011515538218115573,\n",
       " -0.006322499295133177,\n",
       " 0.011626773700198711,\n",
       " 0.019722588226283477,\n",
       " -0.0006234719642694841,\n",
       " -0.00232785396976265,\n",
       " -0.01532376676163505,\n",
       " 0.010721320759782493,\n",
       " 0.00547501989912913,\n",
       " -0.01455146866539625,\n",
       " -9.085258755447967e-05,\n",
       " -0.0019283894372250643,\n",
       " -6.422161871988408e-05,\n",
       " 0.0178317894389437,\n",
       " -0.0013158771540018321,\n",
       " 0.008058223876201254,\n",
       " 0.007419080624143426,\n",
       " -0.0030468901283287053,\n",
       " 0.0010010171347127894,\n",
       " 0.019616064350939766,\n",
       " -0.006322499295133177,\n",
       " -0.0027006875334629754,\n",
       " 0.025767818152011124,\n",
       " -0.029651227995297624,\n",
       " -0.009997572994473458,\n",
       " 0.010747951728618865,\n",
       " -0.004857796009162918,\n",
       " -0.012021526625995094,\n",
       " -0.019637983713035823,\n",
       " 0.004196733395009922,\n",
       " -0.014444944790053427,\n",
       " 0.016047514526942308,\n",
       " -0.006242606388625838,\n",
       " 0.00012219516313116685,\n",
       " 0.021480232169446722,\n",
       " -0.007148059329042944,\n",
       " -0.009358429742413854,\n",
       " 0.009629451037513448,\n",
       " 0.008351164533396016,\n",
       " 0.007925069032022058,\n",
       " -0.008266560020145697,\n",
       " 0.007791914187845528,\n",
       " 0.01120067819882653,\n",
       " 0.004276626301518149,\n",
       " 0.005182079241935256,\n",
       " -0.00019737646289730293,\n",
       " 0.0016667913556087655,\n",
       " 0.003184756579249104,\n",
       " -0.022647283191480128,\n",
       " -0.020703222466467608,\n",
       " -0.005949665731431963,\n",
       " -0.01311339634826414,\n",
       " -0.006961642547191893,\n",
       " 0.0024390894518475648,\n",
       " -0.0029137352841503983,\n",
       " -0.00581651088725188,\n",
       " 0.00022871903847576647,\n",
       " 0.0032912804545937036,\n",
       " 0.018950290130046454,\n",
       " 0.0003352429138194779,\n",
       " -0.008026881300623678,\n",
       " 0.012692012453631385,\n",
       " 0.010135439445393857,\n",
       " 0.011067523354648223,\n",
       " -0.007733940643429804,\n",
       " 0.004942400522412349,\n",
       " -0.00025063840056915865,\n",
       " 0.005847853462829455,\n",
       " 0.007685390312499152,\n",
       " -0.005709987011909057,\n",
       " 0.004303257270352745,\n",
       " -0.0030468901283287053,\n",
       " -0.011462276280441941,\n",
       " 0.01008217750772289,\n",
       " -0.007547523861579641,\n",
       " 0.008111485813873998,\n",
       " -0.01284708665990486,\n",
       " 0.012612119547124934,\n",
       " -0.0026474255957902315,\n",
       " 0.010641427853275154,\n",
       " -0.010450299464682011,\n",
       " -0.0068817496406845535,\n",
       " -0.007387738048564074,\n",
       " -0.019318412087005576,\n",
       " -0.006748594796505358,\n",
       " 0.012905060204318808,\n",
       " 0.01615403840228602,\n",
       " 0.011040892385811851,\n",
       " 0.002172779763488286,\n",
       " 0.005155448273099772,\n",
       " -0.0022213300944198267,\n",
       " -0.011169335623248955,\n",
       " -0.006269237357461321,\n",
       " -0.0006501029331067443,\n",
       " -0.012900348597575828,\n",
       " 0.008644105190589002,\n",
       " -0.0008098887461214233,\n",
       " -0.009225274898234659,\n",
       " -0.0006501029331067443,\n",
       " -0.004218652757104202,\n",
       " 0.006513627683724543,\n",
       " -0.0034996165985372585,\n",
       " 0.0008678622905344824,\n",
       " 0.00419673339501081,\n",
       " 0.0023591965453402253,\n",
       " 0.02515530586878789,\n",
       " 0.0073391877176360865,\n",
       " -0.0048045340714919504,\n",
       " 0.0006281835710124639,\n",
       " 0.002066255888145463,\n",
       " -0.00022400743173367488,\n",
       " 0.0012140648854002123,\n",
       " -0.00033053130707649814,\n",
       " -0.018865685616797023,\n",
       " -0.00549693926122341,\n",
       " 0.0021727797634891743,\n",
       " 0.009016938754291104,\n",
       " -0.013725908631486483,\n",
       " 0.0030782327039062807,\n",
       " 0.012745274391304129,\n",
       " 0.015408371274885369,\n",
       " 0.0060342702446813945,\n",
       " 0.02515530586878789,\n",
       " 0.021853065733147936,\n",
       " -0.0027539494711357193,\n",
       " 0.0041967333950090335,\n",
       " -0.006721963827668986,\n",
       " -0.0018218655618813528,\n",
       " 0.0011874339165647285,\n",
       " -0.009038858116384496,\n",
       " -0.0062159754197885775,\n",
       " -0.01817328042706645,\n",
       " -0.0012892461851663484,\n",
       " 0.006220687026531557,\n",
       " 0.007658759343664556,\n",
       " 0.00984249878820087,\n",
       " 0.013970298957750593,\n",
       " -0.0012626152163317528,\n",
       " 0.017672003625927246,\n",
       " 0.017059491342703126,\n",
       " -0.0033131998166870957,\n",
       " -0.008452976801997636,\n",
       " -0.008000250331788195,\n",
       " 0.009735974912858936,\n",
       " -0.00515073666635768,\n",
       " 0.012878429235483324,\n",
       " 0.001240695854235696,\n",
       " -0.011355752405100006,\n",
       " 0.004090209519667987,\n",
       " -0.015350397730470533,\n",
       " 0.01066805882210975,\n",
       " 0.003051601735071685,\n",
       " -0.00616271348211761,\n",
       " -0.009811156212624184,\n",
       " 0.021347077325268415,\n",
       " 0.0031847565792508803,\n",
       " -0.0104502994646829,\n",
       " 0.0010010171347136776,\n",
       " 0.012212655014587348,\n",
       " -0.0052838915105368756,\n",
       " 0.0022793036388319976,\n",
       " 0.007925069032022947,\n",
       " 0.005981008307009539,\n",
       " 0.008564212284081663,\n",
       " -0.005736617980745429,\n",
       " -0.004804534071491062,\n",
       " 0.004889138584740493,\n",
       " 0.002385827514174821,\n",
       " 0.006620151559069143,\n",
       " 0.015541526119063676,\n",
       " 0.022438947047535684,\n",
       " 0.005048924397755172,\n",
       " -0.0025409017204482964,\n",
       " -0.0008897816526287627,\n",
       " -0.01918525724282638,\n",
       " -0.0060295586379375266,\n",
       " 0.0010276481035482732,\n",
       " -0.004698010196148239,\n",
       " -0.007867095487609888,\n",
       " -0.001022936496807958,\n",
       " 0.0007347074463561754,\n",
       " 0.012692012453632273,\n",
       " 0.0006015526021752038,\n",
       " -0.0017419726553749015,\n",
       " 0.010401749133752247,\n",
       " -0.001156091340986265,\n",
       " 0.0018265771686234444,\n",
       " 0.009309879411484978,\n",
       " -0.003366461754357175,\n",
       " 0.003983685644323387,\n",
       " -0.0007566268084504557,\n",
       " 0.008617474221754406,\n",
       " -0.018093387520558224,\n",
       " -0.015297135792799565,\n",
       " 0.000281980976146734,\n",
       " -0.010982918841397904,\n",
       " 0.0007613384151907709,\n",
       " 0.008297902595725049,\n",
       " 0.008244640658053193,\n",
       " 0.015940990651599485,\n",
       " 0.007232663842292375,\n",
       " 0.0032380185169209597,\n",
       " 0.006806568340919306,\n",
       " -0.010636716246533062,\n",
       " -0.009837787181459667,\n",
       " -0.002807211408806687,\n",
       " -0.0008631506837923908,\n",
       " -0.006002927669102043,\n",
       " -0.007334476110893995,\n",
       " 0.0019863629816390116,\n",
       " -0.019478197900020255,\n",
       " -0.010849763997219597,\n",
       " 0.015940990651600373,\n",
       " -0.0007033648707786,\n",
       " -0.006801856734177214,\n",
       " -0.0070947973913702,\n",
       " -0.003446354660866291,\n",
       " 0.010055546538886517,\n",
       " 0.0006814455086834315,\n",
       " 0.00025535000731125024,\n",
       " 0.0015070055425940865,\n",
       " -0.0014756629670165111,\n",
       " -0.00043705518242109775,\n",
       " 0.00899030778545562,\n",
       " -0.00839971486432578,\n",
       " 0.013757251207064058,\n",
       " 0.025208567806459747,\n",
       " 0.01436976349028729,\n",
       " 0.013304524736856393,\n",
       " -0.00046368615125569335,\n",
       " -0.0014224010293446554,\n",
       " -0.0038191882245666164,\n",
       " -0.011009549810234276,\n",
       " 0.012265916952258316,\n",
       " 0.002412458483011193,\n",
       " -0.00781383354993892,\n",
       " -0.002141437187911599,\n",
       " 0.0017999461997879607,\n",
       " -0.0070415354536992325,\n",
       " 0.01684644359201659,\n",
       " -0.0012359842474953808,\n",
       " 0.0023059346076674814,\n",
       " -0.0020615442814042595,\n",
       " 0.019216599818403957,\n",
       " 0.00699298512276858,\n",
       " 0.012692012453632273,\n",
       " -0.002807211408806687,\n",
       " 0.01761874168825539,\n",
       " -0.0010229364968070698,\n",
       " -0.006935011578354633,\n",
       " -0.00017074549406093098,\n",
       " -0.006189344450953982,\n",
       " 0.006087532182351474,\n",
       " -0.005709987011909057,\n",
       " -0.008239929051311101,\n",
       " 0.00014882613196665062,\n",
       " -0.00616271348211761,\n",
       " 0.008138116782709481,\n",
       " 0.0005216596956687525,\n",
       " -0.00933179877357837,\n",
       " -0.004431700507790737,\n",
       " -0.002274592032089906,\n",
       " 0.004223364363847182,\n",
       " -0.016548791328081514,\n",
       " 0.006300579933038897,\n",
       " -0.003073521097164189,\n",
       " 0.004356519208025489,\n",
       " 0.0016667913556078773,\n",
       " -0.0028604733464776544,\n",
       " -0.0025409017204491846,\n",
       " 0.0004950287268341569,\n",
       " -0.015856386138350942,\n",
       " 0.0028119230155487784,\n",
       " 0.008510950346410695,\n",
       " -0.010237251713994588,\n",
       " -0.0052838915105368756,\n",
       " 0.014156715739600756,\n",
       " -0.018972209492139847,\n",
       " 0.012878429235483324,\n",
       " 0.006433734777218092,\n",
       " -0.013113396348263251,\n",
       " 0.00486250761590501,\n",
       " -0.004884426978000178,\n",
       " 0.004463043083367424,\n",
       " 0.01615403840228602,\n",
       " -0.002114806219075227,\n",
       " -0.004378438570119769,\n",
       " 0.021906327670819792,\n",
       " -0.004058866944089523,\n",
       " -0.013486229911964465,\n",
       " 0.014343132521452695,\n",
       " -0.0034996165985363703,\n",
       " 0.01815136106497217,\n",
       " -0.0027006875334629754,\n",
       " -0.011861740812978638,\n",
       " -0.014258528008203264,\n",
       " 0.0018798391062953002,\n",
       " 0.012399071796438399,\n",
       " -0.0070415354536992325,\n",
       " 0.006247317995367929,\n",
       " 0.004835876647069526,\n",
       " 0.01181319048205065,\n",
       " -0.008532869708504975,\n",
       " -1.095968104714018e-05,\n",
       " -9.085258755536785e-05,\n",
       " -0.0062159754197885775,\n",
       " -0.0035262475673736304,\n",
       " 0.005581543774471953,\n",
       " 0.011174047229991935,\n",
       " -0.0006234719642712605,\n",
       " -0.007867095487609,\n",
       " 0.009815867819364499,\n",
       " -0.008000250331788195,\n",
       " -0.0104502994646829,\n",
       " -0.018705899803781456,\n",
       " -0.001981651374896032,\n",
       " -0.002114806219075227,\n",
       " 0.014609442209809309,\n",
       " 0.005421757961458162,\n",
       " 0.007392449655306166,\n",
       " 0.009762605881693531,\n",
       " 0.0016135294179369097,\n",
       " -0.02003744824557252,\n",
       " 0.02121392248108922,\n",
       " 0.009869129757037243,\n",
       " 0.0025722442960249836,\n",
       " -0.004431700507790737,\n",
       " -0.0025409017204491846,\n",
       " 0.014236608646108095,\n",
       " -0.013512860880800837,\n",
       " -0.00941169168008571,\n",
       " 0.00315812561041362,\n",
       " -0.007254583204386655,\n",
       " -0.010556823340025723,\n",
       " 0.00020208806963850634,\n",
       " -0.007494261923907786,\n",
       " 0.012878429235482436,\n",
       " 0.011680035637870567,\n",
       " -0.0005968409954357767,\n",
       " -0.008293190988982069,\n",
       " 0.0025456133271895,\n",
       " 0.0013738506984157794,\n",
       " -0.010237251713995477,\n",
       " -0.005443677323550666,\n",
       " -0.00879917939686159,\n",
       " -0.008426345833161264,\n",
       " 0.0166866577790028,\n",
       " -0.009305167804742887,\n",
       " -0.005496939261221634,\n",
       " -0.010290513651667332,\n",
       " 0.0017200532932806212,\n",
       " 0.02001552888347735,\n",
       " -0.0021946991255825665,\n",
       " -0.01686836295411176,\n",
       " -0.0023811159074327293,\n",
       " 0.022518839954043024,\n",
       " 0.00741908062414165,\n",
       " 0.0011874339165638403,\n",
       " -0.0001441145252263354,\n",
       " -0.0014490319981801392,\n",
       " -0.005283891510535987,\n",
       " -0.01881242367912428,\n",
       " 0.011387094980675805,\n",
       " 0.005315234086114451,\n",
       " 0.008937045847782876,\n",
       " -0.005550201198895266,\n",
       " -0.0046447482584772715,\n",
       " -0.003286568847850724,\n",
       " -0.00547030829238615,\n",
       " -0.013379706036620753,\n",
       " 0.0022526726699956257,\n",
       " 0.006593520590232771,\n",
       " -0.004964319884507518,\n",
       " -0.00650891607698334,\n",
       " -0.006801856734178102,\n",
       " 0.007925069032022058,\n",
       " -0.012953610535247684,\n",
       " -0.007627416768086981,\n",
       " -0.007041535453700121,\n",
       " -0.01865263786611049,\n",
       " 0.0028119230155487784,\n",
       " -0.00515073666635768,\n",
       " -0.0033131998166862076,\n",
       " -0.009172012960563691,\n",
       " 0.00041513582032504104,\n",
       " 0.005927746369335907,\n",
       " 0.007552235468321733,\n",
       " -0.00163544878003119,\n",
       " -0.00555020119889349,\n",
       " 0.006593520590232771,\n",
       " -0.002434377845104585,\n",
       " 0.00219941073232377,\n",
       " -0.004298545663609765,\n",
       " -0.0006234719642703723,\n",
       " -0.019185257242825493,\n",
       " -0.014711254478410929,\n",
       " -0.01702814876712644,\n",
       " 0.005741329587486632,\n",
       " 0.015594788056734643,\n",
       " -0.02174183025106302,\n",
       " 0.011813190482049762,\n",
       " 0.011440356918349437,\n",
       " -0.0017153416865394178,\n",
       " 0.018843766254701855,\n",
       " -0.012314467283188968,\n",
       " -0.011941633719487754,\n",
       " 0.00768539031250004,\n",
       " 0.0008412313216989986,\n",
       " 0.0028119230155487784,\n",
       " -0.012101419532502433,\n",
       " -0.0036594024115519375,\n",
       " -0.01721456554897749,\n",
       " 0.014476287365631002,\n",
       " -0.001688710717703934,\n",
       " -0.004138759850597751,\n",
       " -0.012367729220859047,\n",
       " -0.005017581822177597,\n",
       " -0.01598954098252925,\n",
       " 0.0008678622905344824,\n",
       " 0.015328478368376253,\n",
       " 0.019642695319776138,\n",
       " 0.00222604170116103,\n",
       " 0.012505595671781222,\n",
       " -0.015483552574649728,\n",
       " -0.00882581036569885,\n",
       " 0.0012406958542348079,\n",
       " 0.00667341349674011,\n",
       " -0.010636716246533062,\n",
       " 0.01522195449303343,\n",
       " -0.00965137039960684,\n",
       " 0.0063538418707107525,\n",
       " 0.01847093269100153,\n",
       " -0.006908380609520037,\n",
       " -0.0019017584683895805,\n",
       " 4.230225662471554e-05,\n",
       " 0.017032860373867642,\n",
       " 0.01658013390365909,\n",
       " -0.009598108461935873,\n",
       " 0.0034510662676074944,\n",
       " 0.004969031491247833,\n",
       " -0.014791147384918268,\n",
       " ...]"
      ]
     },
     "execution_count": 45,
     "metadata": {},
     "output_type": "execute_result"
    }
   ],
   "source": [
    "# The difference in the means for Permutation1 (0.001103) now looks hugely different to our observed difference of 0.14206. \n",
    "# It's sure starting to look like our observed difference is significant, and that the Null is false; platform does impact on ratings\n",
    "# But to be sure, let's create 10,000 permutations, calculate the mean ratings for Google and Apple apps and the difference between these for each one, and then take the average of all of these differences.\n",
    "# Let's create a vector with the differences - that will be the distibution of the Null.\n",
    "\n",
    "# First, make a list called difference.\n",
    "difference = []\n",
    "\n",
    "# Now make a for loop that does the following 10,000 times:\n",
    "# 1. makes a permutation of the 'Rating' as you did above\n",
    "# 2. calculates the difference in the mean rating for apple and the mean rating for google. \n",
    "for x in range(10000):\n",
    "    df['perm'] = np.random.permutation(df['Rating'])\n",
    "    summ = df.groupby('platform')['perm'].describe()\n",
    "    diff = summ.loc['apple','mean'] - summ.loc['google','mean']\n",
    "    difference.append(diff)\n",
    "\n",
    "difference"
   ]
  },
  {
   "cell_type": "code",
   "execution_count": 50,
   "metadata": {
    "colab": {},
    "colab_type": "code",
    "id": "VlzpYTkYFcv_"
   },
   "outputs": [
    {
     "data": {
      "text/plain": [
       "(array([1.000e+00, 3.000e+00, 9.000e+00, 3.000e+01, 6.400e+01, 1.000e+02,\n",
       "        1.760e+02, 3.120e+02, 4.990e+02, 7.370e+02, 9.540e+02, 1.092e+03,\n",
       "        1.181e+03, 1.175e+03, 1.048e+03, 9.050e+02, 6.700e+02, 4.460e+02,\n",
       "        2.740e+02, 1.680e+02, 8.800e+01, 3.600e+01, 1.900e+01, 6.000e+00,\n",
       "        7.000e+00]),\n",
       " array([-0.03859923, -0.03560591, -0.03261259, -0.02961927, -0.02662595,\n",
       "        -0.02363263, -0.02063931, -0.01764599, -0.01465267, -0.01165935,\n",
       "        -0.00866602, -0.0056727 , -0.00267938,  0.00031394,  0.00330726,\n",
       "         0.00630058,  0.0092939 ,  0.01228722,  0.01528054,  0.01827386,\n",
       "         0.02126718,  0.02426051,  0.02725383,  0.03024715,  0.03324047,\n",
       "         0.03623379]),\n",
       " <BarContainer object of 25 artists>)"
      ]
     },
     "execution_count": 50,
     "metadata": {},
     "output_type": "execute_result"
    },
    {
     "data": {
      "image/png": "[encoded data removed]",
      "text/plain": [
       "<Figure size 640x480 with 1 Axes>"
      ]
     },
     "metadata": {},
     "output_type": "display_data"
    }
   ],
   "source": [
    "# Make a variable called 'histo', and assign to it the result of plotting a histogram of the difference list. \n",
    "histo = plt.hist(difference, bins=25)\n",
    "histo"
   ]
  },
  {
   "cell_type": "code",
   "execution_count": 54,
   "metadata": {
    "colab": {},
    "colab_type": "code",
    "id": "KhqgDFd3FcwB"
   },
   "outputs": [
    {
     "data": {
      "text/plain": [
       "0.1420605474512291"
      ]
     },
     "execution_count": 54,
     "metadata": {},
     "output_type": "execute_result"
    }
   ],
   "source": [
    "# Now make a variable called obs_difference, and assign it the result of the mean of our 'apple' variable and the mean of our 'google variable'\n",
    "obs_difference = np.mean(apple) - np.mean(google)\n",
    "\n",
    "# Make this difference absolute with the built-in abs() function. \n",
    "obs_difference = abs(obs_difference)\n",
    "\n",
    "# Print out this value; it should be 0.1420605474512291. \n",
    "obs_difference"
   ]
  },
  {
   "cell_type": "markdown",
   "metadata": {
    "colab_type": "text",
    "id": "QUNuuSgDFcwE"
   },
   "source": [
    "## Stage 4 -  Evaluating and concluding\n",
    "### 4a. What is our conclusion?"
   ]
  },
  {
   "cell_type": "code",
   "execution_count": 56,
   "metadata": {
    "colab": {},
    "colab_type": "code",
    "id": "XMQHnqx1FcwF"
   },
   "outputs": [
    {
     "data": {
      "text/plain": [
       "0.0"
      ]
     },
     "execution_count": 56,
     "metadata": {},
     "output_type": "execute_result"
    }
   ],
   "source": [
    "'''\n",
    "What do we know? \n",
    "\n",
    "Recall: The p-value of our observed data is just the proportion of the data given the null that's at least as extreme as that observed data.\n",
    "\n",
    "As a result, we're going to count how many of the differences in our difference list are at least as extreme as our observed difference.\n",
    "\n",
    "If less than or equal to 5% of them are, then we will reject the Null. \n",
    "'''\n",
    "np.sum(difference >= obs_difference) / len(difference)"
   ]
  },
  {
   "cell_type": "markdown",
   "metadata": {
    "colab_type": "text",
    "id": "4RTofY9wFcwI"
   },
   "source": [
    "### 4b. What is our decision?\n",
    "So actually, zero differences are at least as extreme as our observed difference!\n",
    "\n",
    "So the p-value of our observed data is 0. \n",
    "\n",
    "It doesn't matter which significance level we pick; our observed data is statistically significant, and we reject the Null.\n",
    "\n",
    "We conclude that platform does impact on ratings. Specifically, we should advise our client to integrate **only Google Play** into their operating system interface. "
   ]
  },
  {
   "cell_type": "markdown",
   "metadata": {
    "colab_type": "text",
    "id": "Cu_eh7fTFcwJ"
   },
   "source": [
    "### 4c. Other statistical tests, and next steps\n",
    "The test we used here is the Permutation test. This was appropriate because our data were not normally distributed! \n",
    "\n",
    "As we've seen in Professor Spiegelhalter's book, there are actually many different statistical tests, all with different assumptions. How many of these different statistical tests can you remember? How much do you remember about what the appropriate conditions are under which to use them? \n",
    "\n",
    "Make a note of your answers to these questions, and discuss them with your mentor at your next call. \n"
   ]
  }
 ],
 "metadata": {
  "colab": {
   "collapsed_sections": [
    "5fbRq2MZFcvq",
    "4RTofY9wFcwI",
    "Cu_eh7fTFcwJ"
   ],
   "name": "Springboard Apps project - Tier 3 - Complete.ipynb",
   "provenance": []
  },
  "kernelspec": {
   "display_name": "Python 3 (ipykernel)",
   "language": "python",
   "name": "python3"
  },
  "language_info": {
   "codemirror_mode": {
    "name": "ipython",
    "version": 3
   },
   "file_extension": ".py",
   "mimetype": "text/x-python",
   "name": "python",
   "nbconvert_exporter": "python",
   "pygments_lexer": "ipython3",
   "version": "3.11.7"
  }
 },
 "nbformat": 4,
 "nbformat_minor": 4
}
